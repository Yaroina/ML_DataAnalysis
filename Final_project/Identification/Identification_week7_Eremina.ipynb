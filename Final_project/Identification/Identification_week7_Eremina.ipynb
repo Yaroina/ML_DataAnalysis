{
 "cells": [
  {
   "cell_type": "markdown",
   "metadata": {},
   "source": [
    "# Идентификация интернет-пользователей"
   ]
  },
  {
   "cell_type": "markdown",
   "metadata": {},
   "source": [
    "Финальный проект специализации МФТИ и Яндекса \"Машинное обучение и анализ данных\""
   ]
  },
  {
   "cell_type": "markdown",
   "metadata": {},
   "source": [
    "## Описание проекта"
   ]
  },
  {
   "cell_type": "markdown",
   "metadata": {},
   "source": [
    "В этом проекте мы будем решать задачу идентификации пользователя по его поведению в сети Интернет. Это сложная и интересная задача на стыке анализа данных и поведенческой психологии. В качестве примера, компания Яндекс решает задачу идентификации взломщика почтового ящика по его поведению. В двух словах, взломщик будет себя вести не так, как владелец ящика: он может не удалять сообщения сразу по прочтении, как это делал хозяин, он будет по-другому ставить флажки сообщениям и даже по-своему двигать мышкой. Тогда такого злоумышленника можно идентифицировать и \"выкинуть\" из почтового ящика, предложив хозяину войти по SMS-коду. Этот пилотный проект описан в статье на Хабрахабре. Похожие вещи делаются, например, в Google Analytics и описываются в научных статьях, найти можно многое по фразам \"Traversal Pattern Mining\" и \"Sequential Pattern Mining\"."
   ]
  },
  {
   "cell_type": "markdown",
   "metadata": {},
   "source": [
    "### Подготовка данных к анализу и построению моделей"
   ]
  },
  {
   "cell_type": "markdown",
   "metadata": {},
   "source": [
    "#### * Подготовка обучающей выборки"
   ]
  },
  {
   "cell_type": "code",
   "execution_count": 10,
   "metadata": {},
   "outputs": [],
   "source": [
    "%load_ext watermark"
   ]
  },
  {
   "cell_type": "code",
   "execution_count": 11,
   "metadata": {},
   "outputs": [
    {
     "name": "stdout",
     "output_type": "stream",
     "text": [
      "CPython 2.7.15\n",
      "IPython 5.4.1\n",
      "\n",
      "numpy 1.13.3\n",
      "scipy 1.0.0\n",
      "pandas 0.22.0\n",
      "matplotlib 2.2.2\n",
      "statsmodels 0.8.0\n",
      "scikit-learn 0.19.1\n",
      "\n",
      "compiler   : GCC 4.2.1 Compatible Clang 4.0.1 (tags/RELEASE_401/final)\n",
      "system     : Darwin\n",
      "release    : 16.7.0\n",
      "machine    : x86_64\n",
      "processor  : i386\n",
      "CPU cores  : 4\n",
      "interpreter: 64bit\n",
      "Git hash   :\n"
     ]
    },
    {
     "name": "stderr",
     "output_type": "stream",
     "text": [
      "/Users/yaroina-kente/src/watermark/watermark/watermark.py:155: DeprecationWarning: Importing scikit-learn as `scikit-learn` has been depracated and will not be supported anymore in v1.7.0. Please use the package name `sklearn` instead.\n",
      "  DeprecationWarning)\n"
     ]
    }
   ],
   "source": [
    "%watermark -v -m -p numpy,scipy,pandas,matplotlib,statsmodels,scikit-learn -g"
   ]
  },
  {
   "cell_type": "code",
   "execution_count": 265,
   "metadata": {},
   "outputs": [
    {
     "name": "stdout",
     "output_type": "stream",
     "text": [
      "Populating the interactive namespace from numpy and matplotlib\n"
     ]
    }
   ],
   "source": [
    "from __future__ import division, print_function\n",
    "# отключим всякие предупреждения Anaconda\n",
    "import warnings\n",
    "warnings.filterwarnings('ignore')\n",
    "\n",
    "from glob import glob\n",
    "import numpy as np\n",
    "import pandas as pd\n",
    "import itertools\n",
    "import pickle\n",
    "import matplotlib.pyplot as plt\n",
    "import os\n",
    "import re\n",
    "import seaborn as sns\n",
    "import datetime\n",
    "#import vowpal_wabbit as vw\n",
    "\n",
    "from scipy import stats as sts\n",
    "from statsmodels.stats.proportion import proportion_confint\n",
    "from itertools import combinations\n",
    "from time import time\n",
    "from sklearn.model_selection import train_test_split, cross_val_score, StratifiedKFold, GridSearchCV\n",
    "from sklearn.metrics import accuracy_score, f1_score, roc_auc_score\n",
    "from sklearn.neighbors import KNeighborsClassifier\n",
    "from sklearn.ensemble import RandomForestClassifier\n",
    "from sklearn.linear_model import LogisticRegression, LogisticRegressionCV, SGDClassifier\n",
    "from sklearn.svm import LinearSVC\n",
    "from sklearn.model_selection import learning_curve\n",
    "from scipy.sparse import csr_matrix, hstack\n",
    "from xgboost import XGBClassifier\n",
    "from tqdm import tqdm_notebook\n",
    "from sklearn.preprocessing import StandardScaler, MinMaxScaler, LabelEncoder\n",
    "from scipy import sparse\n",
    "\n",
    "%matplotlib inline\n",
    "%pylab inline"
   ]
  },
  {
   "cell_type": "code",
   "execution_count": 266,
   "metadata": {},
   "outputs": [],
   "source": [
    "from time import time\n",
    "dict_add_time = 0;\n",
    "def add_elem_to_dict(dictionary, element, filecount):\n",
    "    global dict_add_time\n",
    "    s_time = time()\n",
    "    if element in dictionary:\n",
    "        return filecount\n",
    "    else:\n",
    "        dictionary[element] = [filecount+1, 0]\n",
    "        return filecount+1\n",
    "    dict_add_time += time() - s_time\n",
    "def add_freq_to_dict(dictionary, data):\n",
    "    global dict_add_time\n",
    "    s_time = time()\n",
    "    for key in dictionary:\n",
    "        a = dictionary[key][0]\n",
    "        dictionary[key] = (a, data[a])\n",
    "    dict_add_time += time() - s_time"
   ]
  },
  {
   "cell_type": "markdown",
   "metadata": {},
   "source": [
    "Реализуем функцию prepare_train_set, которая принимает на вход путь к каталогу с csv-файлами и параметр session_length – длину сессии, а возвращает 2 объекта:\n",
    "* DataFrame, в котором строки соответствуют уникальным сессиям из session_length сайтов (используйте drop_duplicates, чтоб оставить только уникальные сессии), session_length столбцов – индексам этих session_length сайтов и последний столбец – ID пользователя.\n",
    "* частотный словарь сайтов вида {'site_string': [site_id, site_freq]}."
   ]
  },
  {
   "cell_type": "code",
   "execution_count": 53,
   "metadata": {},
   "outputs": [],
   "source": [
    "def prepare_train_set(csv_files_mask, session_length=10):\n",
    "    # Получаем список файлов, удовлетворяющих заданной маске\n",
    "    site_dict = {}\n",
    "    list_of_files = glob(csv_files_mask)\n",
    "    data = []\n",
    "\n",
    "    file_counter = 0\n",
    "    for path in list_of_files:\n",
    "        all_sites_from_file = []\n",
    "        # Читаем файлы из списка\n",
    "        with open(path, 'r') as filep:\n",
    "            lines = filep.readlines()[1:]\n",
    "            list_of_sites = []\n",
    "            for line in lines:\n",
    "                # Читаем строки из файла, каждую строку разбиваем на части\n",
    "                list_of_tokens = line.strip().split(',')\n",
    "                # Проверяем, что строка не пуста\n",
    "                if len(list_of_tokens) != 2:\n",
    "                    break\n",
    "                # Добавляем элемент в словарь\n",
    "                file_counter = add_elem_to_dict(site_dict, list_of_tokens[1], file_counter)\n",
    "                all_sites_from_file.append(site_dict[list_of_tokens[1]][0])\n",
    "            user_id = int(path[-8:-4])\n",
    "        n = len(all_sites_from_file)\n",
    "            \n",
    "        ind = 0\n",
    "        while True:\n",
    "            if ind + 10 > n-1:\n",
    "                data.append(all_sites_from_file[ind:n] + [0 for _ in range(10 - n + ind)] + [user_id])\n",
    "                break\n",
    "            data.append(all_sites_from_file[ind:ind+10] + [user_id])\n",
    "            ind += 10\n",
    "    df = pd.DataFrame(data,columns = ['site'+str(x) for x in range(1, session_length+1)] + ['target'])\n",
    "    df = df.drop_duplicates()\n",
    "    add_freq_to_dict(site_dict, np.unique(df.drop(['target'], axis = 1).values.ravel(), return_counts=True)[1])\n",
    "    return df, site_dict"
   ]
  },
  {
   "cell_type": "markdown",
   "metadata": {},
   "source": [
    "Применим полученную функцию к данным по 10 и 150 пользователями и сохраним полученные DataFrame в csv-файлы для дальнейшего"
   ]
  },
  {
   "cell_type": "code",
   "execution_count": 55,
   "metadata": {},
   "outputs": [
    {
     "name": "stdout",
     "output_type": "stream",
     "text": [
      "Time elapsed: 0.439872026443\n",
      "0.00462293624878\n",
      "0.435939073563\n"
     ]
    }
   ],
   "source": [
    "t_start = time()\n",
    "dict_add_time = 0;\n",
    "train_data_10users, site_freq_10users = prepare_train_set('/Users/yaroina-kente/Identification/capstone_websites_data/10users/*', \n",
    "                      session_length=10)\n",
    "print(\"Time elapsed: \" + str(time()- t_start))\n",
    "print(dict_add_time)\n",
    "print(time()- t_start - dict_add_time)"
   ]
  },
  {
   "cell_type": "code",
   "execution_count": 56,
   "metadata": {},
   "outputs": [
    {
     "data": {
      "text/plain": [
       "13265"
      ]
     },
     "execution_count": 56,
     "metadata": {},
     "output_type": "execute_result"
    }
   ],
   "source": [
    "train_data_10users.shape[0]"
   ]
  },
  {
   "cell_type": "code",
   "execution_count": 57,
   "metadata": {},
   "outputs": [
    {
     "name": "stdout",
     "output_type": "stream",
     "text": [
      "Time elapsed: 4.80065393448\n",
      "4.76978492737\n"
     ]
    }
   ],
   "source": [
    "dict_add_time = 0;\n",
    "t_start = time()\n",
    "train_data_150users, site_freq_150users = \\\n",
    "    prepare_train_set('capstone_websites_data/150users/*', \n",
    "                      session_length=10)\n",
    "print(\"Time elapsed: \" + str(time() - t_start))\n",
    "print(time()- t_start - dict_add_time)"
   ]
  },
  {
   "cell_type": "code",
   "execution_count": 58,
   "metadata": {},
   "outputs": [],
   "source": [
    "train_data_10users.to_csv('capstone_websites_data/train_data_10users.csv', \n",
    "                        index_label='session_id', float_format='%d')\n",
    "train_data_150users.to_csv('capstone_websites_data/train_data_150users.csv', \n",
    "                         index_label='session_id', float_format='%d')"
   ]
  },
  {
   "cell_type": "markdown",
   "metadata": {},
   "source": [
    "#### * Работа с разреженным форматом данных"
   ]
  },
  {
   "cell_type": "markdown",
   "metadata": {},
   "source": [
    "Создадим новые матрицы, в которых строкам будут соответствовать сессии из 10 сайтов, а столбцам – индексы сайтов. На пересечении строки $i$ и столбца $j$ будет стоять число $n_{ij}$ – cколько раз сайт $j$ встретился в сессии номер $i$. Делать это будем с помощью разреженных матриц Scipy – [csr_matrix](https://docs.scipy.org/doc/scipy-0.18.1/reference/generated/scipy.sparse.csr_matrix.html)."
   ]
  },
  {
   "cell_type": "code",
   "execution_count": 59,
   "metadata": {},
   "outputs": [],
   "source": [
    "def make_sparse_data(data):\n",
    "    indptr = [0]\n",
    "    indices = []\n",
    "    sparse_data = []\n",
    "    for row in data:\n",
    "        val, cnt = np.unique(row[row != 0], return_counts=True)\n",
    "        indptr.append(indptr[-1] + len(val))\n",
    "        for v, c in zip(val, cnt):\n",
    "            indices.append(v - 1)\n",
    "            sparse_data.append(c)\n",
    "    return np.uint64(sparse_data),  np.uint64(indices), np.uint64(indptr)"
   ]
  },
  {
   "cell_type": "code",
   "execution_count": 60,
   "metadata": {},
   "outputs": [],
   "source": [
    "X_10users, y_10users = train_data_10users.iloc[:, :-1].values, \\\n",
    "                       train_data_10users.iloc[:, -1].values\n",
    "X_150users, y_150users = train_data_150users.iloc[:, :-1].values, \\\n",
    "                         train_data_150users.iloc[:, -1].values"
   ]
  },
  {
   "cell_type": "code",
   "execution_count": 61,
   "metadata": {},
   "outputs": [
    {
     "name": "stdout",
     "output_type": "stream",
     "text": [
      "Time elapsed: 5.443839\n"
     ]
    }
   ],
   "source": [
    "t_start = time()\n",
    "X_sparse_150users = csr_matrix(make_sparse_data(X_150users))  \n",
    "print(\"Time elapsed: %lf\" % (time() - t_start))"
   ]
  },
  {
   "cell_type": "code",
   "execution_count": 62,
   "metadata": {},
   "outputs": [],
   "source": [
    "X_sparse_10users = csr_matrix(make_sparse_data(X_10users))  \n",
    "X_sparse_150users = csr_matrix(make_sparse_data(X_150users)) "
   ]
  },
  {
   "cell_type": "markdown",
   "metadata": {},
   "source": [
    "Сохраним эти разреженные матрицы с помощью pickle (сериализация в Python), также сохраним вектора y_10users, y_150users – целевые значения (id пользователя) в выборках из 10 и 150 пользователей. Наконец, сохраним также и частотные словари сайтов для 10 и 150 пользователей."
   ]
  },
  {
   "cell_type": "code",
   "execution_count": 63,
   "metadata": {},
   "outputs": [],
   "source": [
    "with open('capstone_websites_data/X_sparse_10users.pkl', 'wb') as X10_pkl:\n",
    "    pickle.dump(X_sparse_10users, X10_pkl)\n",
    "with open('capstone_websites_data/y_10users.pkl', 'wb') as y10_pkl:\n",
    "    pickle.dump(y_10users, y10_pkl)\n",
    "with open('capstone_websites_data/X_sparse_150users.pkl', 'wb') as X150_pkl:\n",
    "    pickle.dump(X_sparse_150users, X150_pkl)\n",
    "with open('capstone_websites_data/y_150users.pkl', 'wb') as y150_pkl:\n",
    "    pickle.dump(y_150users, y150_pkl)\n",
    "with open('capstone_websites_data/site_freq_10users.pkl', 'wb') as site_freq_10users_pkl:\n",
    "    pickle.dump(site_freq_10users, site_freq_10users_pkl)\n",
    "with open('capstone_websites_data/site_freq_150users.pkl', 'wb') as site_freq_150users_pkl:\n",
    "    pickle.dump(site_freq_150users, site_freq_150users_pkl)"
   ]
  },
  {
   "cell_type": "markdown",
   "metadata": {},
   "source": [
    "### Подготовка и первичный анализ данных"
   ]
  },
  {
   "cell_type": "markdown",
   "metadata": {},
   "source": [
    "#### * Подготовка нескольких обучающих выборок для сравнения"
   ]
  },
  {
   "cell_type": "markdown",
   "metadata": {},
   "source": [
    "Реализуем функцию *prepare_sparse_train_set_window, которая возвращает 2 объекта:\n",
    "* разреженную матрицу *X_sparse* (двухмерная Scipy.sparse.csr_matrix), в которой строки соответствуют сессиям из *session_length* сайтов, а *max(site_id)* столбцов – количеству посещений *site_id* в сессии. \n",
    "* вектор *y* (Numpy array) \"ответов\" в виде ID пользователей, которым принадлежат сессии из *X_sparse*."
   ]
  },
  {
   "cell_type": "code",
   "execution_count": 94,
   "metadata": {},
   "outputs": [],
   "source": [
    "def prepare_train_set_window(csv_files_mask, site_freq_path, session_length=5, window_width = 3):\n",
    "    # Получаем список файлов, удовлетворяющих заданной маске\n",
    "    list_of_files = glob(csv_files_mask)\n",
    "    data = []\n",
    "    \n",
    "    with open(site_freq_path, \"rb\") as fp:\n",
    "        site_dict = pickle.load(fp)\n",
    "              \n",
    "    for path in list_of_files:\n",
    "        all_sites_from_file = []\n",
    "        # Читаем файлы из списка\n",
    "        with open(path, 'r') as filep:\n",
    "            lines = filep.readlines()[1:]\n",
    "            list_of_sites = []\n",
    "            for line in lines:\n",
    "                # Читаем строки из файла, каждую строку разбиваем на части\n",
    "                list_of_tokens = line.strip().split(',')\n",
    "                # Проверяем, что строка не пустая\n",
    "                if len(list_of_tokens) != 2:\n",
    "                    break\n",
    "                # Добавляем элемент в словарь\n",
    "                all_sites_from_file.append(site_dict[list_of_tokens[1]][0])\n",
    "                user_id = int(path[-8:-4])\n",
    "        n = len(all_sites_from_file)\n",
    "        ind = 0\n",
    "        while True:\n",
    "            if ind + session_length > n-1:\n",
    "                data.append(all_sites_from_file[ind:n] + [0 for _ in range(session_length - n + ind)] + [user_id])\n",
    "            else:\n",
    "                data.append(all_sites_from_file[ind:ind+session_length] + [user_id])\n",
    "            ind += window_width\n",
    "            if ind >= n:\n",
    "                break\n",
    "    df = pd.DataFrame(data,columns = ['site'+str(x) for x in range(1, session_length+1)] + ['target'])\n",
    "    return df.drop_duplicates()"
   ]
  },
  {
   "cell_type": "code",
   "execution_count": 68,
   "metadata": {},
   "outputs": [],
   "source": [
    "def make_sparse_data(data):\n",
    "    indptr = [0]\n",
    "    indices = []\n",
    "    sparse_data = []\n",
    "    for row in data:\n",
    "        sites, visits = np.unique(row[row != 0], return_counts=True)\n",
    "        indptr.append(indptr[-1] + len(sites))\n",
    "        for v, c in zip(sites, visits):\n",
    "            indices.append(v - 1)\n",
    "            sparse_data.append(c)\n",
    "    return np.uint64(sparse_data),  np.uint64(indices), np.uint64(indptr)"
   ]
  },
  {
   "cell_type": "code",
   "execution_count": 69,
   "metadata": {},
   "outputs": [],
   "source": [
    "def prepare_sparse_train_set_window(csv_files_mask, site_freq_path, session_length=10, window_size=10):\n",
    "    \n",
    "    data = prepare_train_set_window(csv_files_mask, \n",
    "                                    site_freq_path, \n",
    "                                    session_length=session_length, \n",
    "                                    window_width = window_size)\n",
    "    X, y = data.iloc[:, :-1].values, data.iloc[:, -1].values\n",
    "    X_sparse = csr_matrix(make_sparse_data(X)) \n",
    "    return X_sparse, y"
   ]
  },
  {
   "cell_type": "markdown",
   "metadata": {},
   "source": [
    "Запустим созданную функцию 16 раз с помощью циклов по числу пользователей num_users (10 или 150), значениям параметра *session_length* (15, 10, 7 или 5) и значениям параметра *window_size* (10, 7 или 5)."
   ]
  },
  {
   "cell_type": "code",
   "execution_count": 71,
   "metadata": {},
   "outputs": [
    {
     "name": "stdout",
     "output_type": "stream",
     "text": [
      "CPU times: user 2min 35s, sys: 6.15 s, total: 2min 41s\n",
      "Wall time: 2min 45s\n"
     ]
    }
   ],
   "source": [
    "%%time\n",
    "data_lengths = []\n",
    "\n",
    "for num_users in [10, 150]:\n",
    "    for window_size, session_length in itertools.product([10, 7, 5], [15, 10, 7, 5]):\n",
    "        if window_size <= session_length and (window_size, session_length) != (10, 10):\n",
    "            X_sparse, y = prepare_sparse_train_set_window('capstone_websites_data/%dusers/*' % num_users, \n",
    "                                                          'capstone_websites_data/site_freq_%dusers.pkl' % num_users,\n",
    "                                                           session_length=session_length, \n",
    "                                                           window_size=window_size)\n",
    "            data_lengths.append(X_sparse.shape[0])\n",
    "            file_name = 'capstone_websites_data/X_sparse_%dusers_s%d_w%d.pkl' % (num_users, session_length, window_size) \n",
    "            with open(file_name, 'wb') as fp:\n",
    "                pickle.dump(X_sparse, fp)\n",
    "            file_name = 'capstone_websites_data/y_%dusers_s%d_w%d.pkl' % (num_users, session_length, window_size)\n",
    "            with open(file_name,'wb') as fp:\n",
    "                pickle.dump(y, fp)"
   ]
  },
  {
   "cell_type": "markdown",
   "metadata": {},
   "source": [
    "#### * Первичный анализ данных, проверка гипотез"
   ]
  },
  {
   "cell_type": "markdown",
   "metadata": {},
   "source": [
    "Считаем в DataFrame файл train_data_10users.csv. Посмотрим распределние целевого класса и посчитаем распределение числа уникальных сайтов в каждой сессии из 10 посещенных подряд сайтов."
   ]
  },
  {
   "cell_type": "code",
   "execution_count": 72,
   "metadata": {},
   "outputs": [],
   "source": [
    "train_df = pd.read_csv('capstone_websites_data/train_data_10users.csv', \n",
    "                       index_col='session_id')"
   ]
  },
  {
   "cell_type": "code",
   "execution_count": 73,
   "metadata": {},
   "outputs": [
    {
     "data": {
      "text/plain": [
       "128    2435\n",
       "39     1997\n",
       "207    1865\n",
       "127    1662\n",
       "237    1619\n",
       "33     1004\n",
       "31      752\n",
       "50      751\n",
       "100     658\n",
       "241     522\n",
       "Name: target, dtype: int64"
      ]
     },
     "execution_count": 73,
     "metadata": {},
     "output_type": "execute_result"
    }
   ],
   "source": [
    "train_df['target'].value_counts()"
   ]
  },
  {
   "cell_type": "code",
   "execution_count": 74,
   "metadata": {},
   "outputs": [],
   "source": [
    "num_unique_sites = [np.unique(train_df.values[i, :-1]).shape[0] \n",
    "                    for i in range(train_df.shape[0])]"
   ]
  },
  {
   "cell_type": "code",
   "execution_count": 75,
   "metadata": {},
   "outputs": [
    {
     "data": {
      "text/plain": [
       "7     2306\n",
       "6     2197\n",
       "8     2046\n",
       "5     1735\n",
       "9     1394\n",
       "4     1163\n",
       "3      892\n",
       "2      821\n",
       "10     651\n",
       "1       60\n",
       "dtype: int64"
      ]
     },
     "execution_count": 75,
     "metadata": {},
     "output_type": "execute_result"
    }
   ],
   "source": [
    "pd.Series(num_unique_sites).value_counts()"
   ]
  },
  {
   "cell_type": "code",
   "execution_count": 76,
   "metadata": {},
   "outputs": [
    {
     "data": {
      "image/png": "[encoded data removed]",
      "text/plain": [
       "<Figure size 432x288 with 1 Axes>"
      ]
     },
     "metadata": {},
     "output_type": "display_data"
    }
   ],
   "source": [
    "pd.Series(num_unique_sites).hist();"
   ]
  },
  {
   "cell_type": "markdown",
   "metadata": {},
   "source": [
    "С помощью QQ-плота и критерия Шапиро-Уилка проверим, что эта величина распределена нормально."
   ]
  },
  {
   "cell_type": "code",
   "execution_count": 77,
   "metadata": {},
   "outputs": [
    {
     "data": {
      "text/plain": [
       "((array([-3.87988713, -3.65852792, -3.53717169, ...,  3.53717169,\n",
       "          3.65852792,  3.87988713]), array([ 1,  1,  1, ..., 10, 10, 10])),\n",
       " (2.116485975246492, 6.2158311345646426, 0.97961557502565588))"
      ]
     },
     "execution_count": 77,
     "metadata": {},
     "output_type": "execute_result"
    },
    {
     "data": {
      "image/png": "[encoded data removed]",
      "text/plain": [
       "<Figure size 432x288 with 1 Axes>"
      ]
     },
     "metadata": {},
     "output_type": "display_data"
    }
   ],
   "source": [
    "fig, ax = plt.subplots()\n",
    "sts.probplot(num_unique_sites, plot=ax)"
   ]
  },
  {
   "cell_type": "code",
   "execution_count": 78,
   "metadata": {},
   "outputs": [
    {
     "name": "stdout",
     "output_type": "stream",
     "text": [
      "p-value for Shapiro-Wilk test: 0.000000\n"
     ]
    }
   ],
   "source": [
    "W, p_val = sts.shapiro(num_unique_sites)\n",
    "print(\"p-value for Shapiro-Wilk test: %lf\" % p_val)"
   ]
  },
  {
   "cell_type": "markdown",
   "metadata": {},
   "source": [
    "Нет, число уникальных сайтов в сессии не распределено нормально."
   ]
  },
  {
   "cell_type": "markdown",
   "metadata": {},
   "source": [
    "Проверим гипотезу о том, что пользователь хотя бы раз зайдет на сайт, который он уже ранее посетил в сессии из 10 сайтов."
   ]
  },
  {
   "cell_type": "code",
   "execution_count": 79,
   "metadata": {},
   "outputs": [
    {
     "data": {
      "text/plain": [
       "0.32341251891634082"
      ]
     },
     "execution_count": 79,
     "metadata": {},
     "output_type": "execute_result"
    }
   ],
   "source": [
    "has_two_similar = (np.array(num_unique_sites) < 10).astype('int')\n",
    "sts.binom_test(has_two_similar.sum(), has_two_similar.shape[0], p=0.95)/2"
   ]
  },
  {
   "cell_type": "markdown",
   "metadata": {},
   "source": [
    "Построим распределение частоты посещения сайтов (сколько раз тот или иной сайт попадается в выборке) для сайтов, которые были посещены как минимум 1000 раз."
   ]
  },
  {
   "cell_type": "code",
   "execution_count": 80,
   "metadata": {},
   "outputs": [
    {
     "data": {
      "text/plain": [
       "{'accounts.google.com': 2087,\n",
       " 'accounts.youtube.com': 1055,\n",
       " 'apis.google.com': 3756,\n",
       " 'clients1.google.com': 1493,\n",
       " 'clients6.google.com': 1039,\n",
       " 'fr-mg42.mail.yahoo.com': 1716,\n",
       " 'i1.ytimg.com': 1232,\n",
       " 'mail.google.com': 4093,\n",
       " 'platform.twitter.com': 1041,\n",
       " 'plus.google.com': 2611,\n",
       " 'r1---sn-gxo5uxg-jqbe.googlevideo.com': 2187,\n",
       " 'r2---sn-gxo5uxg-jqbe.googlevideo.com': 1720,\n",
       " 'r3---sn-gxo5uxg-jqbe.googlevideo.com': 2010,\n",
       " 'r4---sn-gxo5uxg-jqbe.googlevideo.com': 1574,\n",
       " 's-static.ak.facebook.com': 1388,\n",
       " 's.youtube.com': 6532,\n",
       " 'safebrowsing-cache.google.com': 1029,\n",
       " 'static.ak.facebook.com': 1265,\n",
       " 'twitter.com': 1204,\n",
       " 'www.facebook.com': 4081,\n",
       " 'www.google.com': 5068,\n",
       " 'www.google.fr': 7809,\n",
       " 'www.youtube.com': 1804}"
      ]
     },
     "execution_count": 80,
     "metadata": {},
     "output_type": "execute_result"
    }
   ],
   "source": [
    "with open('capstone_websites_data/site_freq_10users.pkl', \"r\") as fp:\n",
    "        site_dict = pickle.load(fp)\n",
    "key_to_delete = []\n",
    "for key in site_dict:\n",
    "    freq = site_dict[key][1]\n",
    "    if freq < 1000:\n",
    "        key_to_delete.append(key)\n",
    "    else:\n",
    "        site_dict[key] = site_dict[key][1]\n",
    "for key in key_to_delete:\n",
    "    site_dict.pop(key, None)\n",
    "site_dict"
   ]
  },
  {
   "cell_type": "code",
   "execution_count": 81,
   "metadata": {},
   "outputs": [
    {
     "data": {
      "image/png": "[encoded data removed]",
      "text/plain": [
       "<Figure size 432x288 with 1 Axes>"
      ]
     },
     "metadata": {},
     "output_type": "display_data"
    }
   ],
   "source": [
    "site_freqs = site_dict.values()\n",
    "pd.Series(site_freqs).hist();"
   ]
  },
  {
   "cell_type": "markdown",
   "metadata": {},
   "source": [
    "### Визуальный анализ данных построение признаков"
   ]
  },
  {
   "cell_type": "markdown",
   "metadata": {},
   "source": [
    "#### * Построение признаков"
   ]
  },
  {
   "cell_type": "markdown",
   "metadata": {},
   "source": [
    "Создадим на основе функций *prepare_train_set* и *prepare_sparse_train_set_window*  новую – *prepare_train_set_with_fe*, (от \"feature engineering\"), создайте следующие 13 признаков:**\n",
    "* time_diff1, ..., time_diff9 – промежутки между посещением 1 и 2 сайта, ..., 9 и 10 сайта в сессии (в секундах). Посещения сайтов не сторого упорядочены по времени, поэтому эти величины где-то могут быть отрицательными. Если сайтов в сессии меньше 10, разницы можно сделать нулевыми\n",
    "* session_timespan – продолжительность сессии. Из-за того, что посещения сайтов не сторого упорядочены по времени, продолжительностью сессии будем считать разницу между максимальным и минимальным временем посещения сайтов в сессии (в секундах).\n",
    "* #unique_sites – число уникальных сайтов в сессии \n",
    "* start_hour – час начала сессии (то есть час в записи минимального timestamp среди десяти)\n",
    "* day_of_week – день недели (то есть день недели в записи минимального timestamp среди десяти).\n",
    "\n",
    "Порядок, в котором добавляются признаки: *site1*, ... *site10*, *time_diff1*, ..., *time_diff9*, *session_timespan*, *#unique_sites*, *start_hour*,*day_of_week*,*target* (это видно и чуть ниже по тому, как функция вызывается)."
   ]
  },
  {
   "cell_type": "code",
   "execution_count": 82,
   "metadata": {},
   "outputs": [],
   "source": [
    "def diff_for_date(a):\n",
    "    if a.size < 2:\n",
    "        return []\n",
    "    else:\n",
    "        return map(int, map(datetime.timedelta.total_seconds, np.diff(a).tolist()))"
   ]
  },
  {
   "cell_type": "code",
   "execution_count": 87,
   "metadata": {},
   "outputs": [],
   "source": [
    "def prepare_train_set_with_fe(csv_files_mask, site_freq_path, feature_names, session_length=10, window_width=10):\n",
    "    \n",
    "    # Получаем список файлов, удовлетворяющих заданной маске\n",
    "    list_of_files = glob(csv_files_mask)\n",
    "    data = []\n",
    "    \n",
    "    # Feature engineering\n",
    "    time_diff_list = []\n",
    "    min_time = 0\n",
    "    max_time = 0\n",
    "    unique_sites = {}\n",
    "    \n",
    "    # Reading site dictionary\n",
    "    with open(site_freq_path, \"rb\") as fp:\n",
    "        site_dict = pickle.load(fp)\n",
    "        \n",
    "    # Reading data files\n",
    "    for path in list_of_files:\n",
    "        all_sites_from_file = []\n",
    "        all_times_from_file = []\n",
    "        # Читаем файлы из списка\n",
    "        with open(path, 'r') as filep:\n",
    "            lines = filep.readlines()[1:]\n",
    "            list_of_sites = []\n",
    "            for line in lines:\n",
    "                # Читаем строки из файла, каждую строку разбиваем на части\n",
    "                list_of_tokens = line.strip().split(',')\n",
    "                # Проверяем, что строка не пустая\n",
    "                if len(list_of_tokens) != 2:\n",
    "                    break\n",
    "                # Добавляем элемент в словарь\n",
    "                all_sites_from_file.append(site_dict[list_of_tokens[1]][0])\n",
    "                all_times_from_file.append(list_of_tokens[0])\n",
    "                user_id = int(path[-8:-4])\n",
    "        n = len(all_sites_from_file)\n",
    "        \n",
    "        ind = 0\n",
    "        while True:\n",
    "            if ind + session_length > n-1:\n",
    "                a = np.array(all_times_from_file[ind:n], dtype='datetime64')\n",
    "                sites = all_sites_from_file[ind:ind+session_length]\n",
    "                time_diff = diff_for_date(a) + [0 for _ in range(session_length - n + ind)]\n",
    "                min_time = a.min()\n",
    "                data.append(sites + [0 for _ in range(session_length - n + ind)] + \n",
    "                            time_diff +\n",
    "                            [int((a.max() - min_time).tolist().total_seconds())] +\n",
    "                            [len(set(sites))] +\n",
    "                            [min_time.tolist().hour] + \n",
    "                            [min_time.tolist().weekday()] +\n",
    "                            [user_id])\n",
    "            else:\n",
    "                a = np.array(all_times_from_file[ind:ind+session_length], dtype='datetime64')\n",
    "                sites = all_sites_from_file[ind:ind+session_length]\n",
    "                time_diff = diff_for_date(a)\n",
    "                min_time = a.min()\n",
    "                data.append(sites + \n",
    "                            time_diff + \n",
    "                            [int((a.max() - min_time).tolist().total_seconds())] +\n",
    "                            [len(set(sites))] + \n",
    "                            [min_time.tolist().hour] + \n",
    "                            [min_time.tolist().weekday()] +\n",
    "                            [user_id])\n",
    "            ind += window_width\n",
    "            if ind >= n:\n",
    "                break\n",
    "    df = pd.DataFrame(data,columns = feature_names)\n",
    "    return df.drop_duplicates()"
   ]
  },
  {
   "cell_type": "markdown",
   "metadata": {},
   "source": [
    "Применим функцию *prepare_train_set_with_fe* к данным по 10 и 150 пользователям, укажите session_length=10."
   ]
  },
  {
   "cell_type": "code",
   "execution_count": 88,
   "metadata": {},
   "outputs": [],
   "source": [
    "feature_names = ['site' + str(i) for i in range(1,11)] + \\\n",
    "                ['time_diff' + str(j) for j in range(1,10)] + \\\n",
    "                ['session_timespan', '#unique_sites', 'start_hour', 'day_of_week', 'target']"
   ]
  },
  {
   "cell_type": "code",
   "execution_count": 89,
   "metadata": {},
   "outputs": [
    {
     "name": "stdout",
     "output_type": "stream",
     "text": [
      "Time elapsed 1.43542909622\n"
     ]
    }
   ],
   "source": [
    "t_start = time()\n",
    "train_data_10users = prepare_train_set_with_fe('capstone_websites_data/10users/*', \n",
    "                                               site_freq_path='capstone_websites_data/site_freq_10users.pkl',\n",
    "                                               feature_names=feature_names, session_length=10)\n",
    "print(\"Time elapsed\", time() - t_start)"
   ]
  },
  {
   "cell_type": "code",
   "execution_count": 90,
   "metadata": {},
   "outputs": [
    {
     "name": "stdout",
     "output_type": "stream",
     "text": [
      "Time elapsed 12.3295738697\n"
     ]
    }
   ],
   "source": [
    "t_start = time()\n",
    "train_data_150users = prepare_train_set_with_fe('capstone_websites_data/150users/*', \n",
    "                                               site_freq_path='capstone_websites_data/site_freq_150users.pkl',\n",
    "                                               feature_names=feature_names, session_length=10)\n",
    "print(\"Time elapsed\", time() - t_start)"
   ]
  },
  {
   "cell_type": "markdown",
   "metadata": {},
   "source": [
    "Сохраним в pickle-файлы *time_diff1*,..., *time_diff9, session_timespan, #unique_sites, start_hour* и *day_of_week* для 10 и 150 пользователей."
   ]
  },
  {
   "cell_type": "code",
   "execution_count": 91,
   "metadata": {},
   "outputs": [],
   "source": [
    "new_features = ['time_diff' + str(j) for j in range(1,10)] + \\\n",
    "               ['session_timespan', '#unique_sites', 'start_hour', 'day_of_week']"
   ]
  },
  {
   "cell_type": "code",
   "execution_count": 92,
   "metadata": {},
   "outputs": [],
   "source": [
    "new_features_10users = train_data_10users[new_features]\n",
    "new_features_150users = train_data_150users[new_features]"
   ]
  },
  {
   "cell_type": "code",
   "execution_count": 95,
   "metadata": {},
   "outputs": [],
   "source": [
    "with open('capstone_websites_data/new_features_10users.pkl', 'wb') as new_features_10users_pkl:\n",
    "    pickle.dump(new_features_10users, new_features_10users_pkl)\n",
    "with open('capstone_websites_data/new_features_150users.pkl', 'wb') as new_features_150users_pkl:\n",
    "    pickle.dump(new_features_150users, new_features_150users_pkl)"
   ]
  },
  {
   "cell_type": "markdown",
   "metadata": {},
   "source": [
    "#### * Визуальный анализ данных"
   ]
  },
  {
   "cell_type": "markdown",
   "metadata": {},
   "source": [
    "Дадим пользователям имена и ассоциируем с ними цвета."
   ]
  },
  {
   "cell_type": "code",
   "execution_count": 96,
   "metadata": {},
   "outputs": [],
   "source": [
    "id_name_dict = {128: 'Mary-Kate', 39: 'Ashley', 207: 'Lindsey', 127: 'Naomi', 237: 'Avril',\n",
    "               33: 'Bob', 50: 'Bill', 31: 'John', 100: 'Dick', 241: 'Ed'}\n",
    "train_data_10users['target'] = train_data_10users['target'].map(id_name_dict)"
   ]
  },
  {
   "cell_type": "code",
   "execution_count": 97,
   "metadata": {},
   "outputs": [],
   "source": [
    "color_dic = {'Mary-Kate': 'pink', 'Ashley': 'darkviolet', 'Lindsey':'blueviolet', \n",
    "             'Naomi': 'hotpink', 'Avril': 'orchid', \n",
    "             'Bob': 'firebrick', 'Bill': 'gold', 'John': 'forestgreen', \n",
    "             'Dick': 'slategrey', 'Ed':'brown'}"
   ]
  },
  {
   "cell_type": "markdown",
   "metadata": {},
   "source": [
    "Построим гистограмму распределения длины сессии в секундах (*session_timespan*)."
   ]
  },
  {
   "cell_type": "code",
   "execution_count": 98,
   "metadata": {},
   "outputs": [
    {
     "data": {
      "image/png": "[encoded data removed]",
      "text/plain": [
       "<Figure size 432x288 with 1 Axes>"
      ]
     },
     "metadata": {},
     "output_type": "display_data"
    }
   ],
   "source": [
    "matplotlib.rc('font', family='Arial')\n",
    "fig, ax = plt.subplots()\n",
    "train_data_10users[train_data_10users.session_timespan < 200]['session_timespan'].plot(kind='hist', color='darkviolet', ax=ax)\n",
    "ax.set_xlabel(u'Длина сессии (сек.)')\n",
    "ax.set_ylabel(u'Частота')\n",
    "ax.set_title(u'Распределение длины сессии');"
   ]
  },
  {
   "cell_type": "markdown",
   "metadata": {},
   "source": [
    "Построим гистограмму распределения числа уникальных сайтов в сессии (*#unique_sites*)."
   ]
  },
  {
   "cell_type": "code",
   "execution_count": 99,
   "metadata": {},
   "outputs": [
    {
     "data": {
      "image/png": "[encoded data removed]",
      "text/plain": [
       "<Figure size 432x288 with 1 Axes>"
      ]
     },
     "metadata": {},
     "output_type": "display_data"
    }
   ],
   "source": [
    "fig, ax = plt.subplots()\n",
    "train_data_10users['#unique_sites'].plot(kind='hist', ax=ax, color='aqua')\n",
    "ax.set_xlabel(u'Число уникальных сайты')\n",
    "ax.set_ylabel(u'Частота')\n",
    "ax.set_title(u'Распределение числа уникальных сайтов');"
   ]
  },
  {
   "cell_type": "markdown",
   "metadata": {},
   "source": [
    "Построим гистограммы распределения числа уникальных сайтов в сессии (*#unique_sites*) для каждого из 10 пользователей по отдельности."
   ]
  },
  {
   "cell_type": "code",
   "execution_count": 101,
   "metadata": {},
   "outputs": [
    {
     "data": {
      "image/png": "[encoded data removed]",
      "text/plain": [
       "<Figure size 1152x720 with 12 Axes>"
      ]
     },
     "metadata": {},
     "output_type": "display_data"
    }
   ],
   "source": [
    "fig, ax = plt.subplots(nrows=3, ncols=4, figsize=(16, 10))\n",
    "\n",
    "for idx, (user, sub_df) in enumerate(train_data_10users.groupby('target')):\n",
    "    i, j = idx // 4, idx % 4\n",
    "    num_unique_sites_hist = sub_df['#unique_sites']\n",
    "    bins = range(num_unique_sites_hist.min(), int(np.ceil(num_unique_sites_hist.max())) + 1)\n",
    "    ax[i, j].hist(num_unique_sites_hist, label=user, color=color_dic[user], edgecolor='black', bins=bins, align='left')\n",
    "    ax[i, j].legend()\n",
    "    ax[i, j].set_xlabel(u'Число уникальных сайтов в сессии')\n",
    "    ax[i, j].set_ylabel(u'Количество')\n",
    "    plt.tight_layout()"
   ]
  },
  {
   "cell_type": "markdown",
   "metadata": {},
   "source": [
    "Построим гистограмму распределения часа начала сессии (*start_hour*)."
   ]
  },
  {
   "cell_type": "code",
   "execution_count": 102,
   "metadata": {},
   "outputs": [
    {
     "data": {
      "text/plain": [
       "Text(0.5,1,u'\\u0420\\u0430\\u0441\\u043f\\u0440\\u0435\\u0434\\u0435\\u043b\\u0435\\u043d\\u0438\\u0435 \\u0447\\u0430\\u0441\\u0430 \\u043d\\u0430\\u0447\\u0430\\u043b\\u0430 \\u0441\\u0435\\u0441\\u0438\\u0438')"
      ]
     },
     "execution_count": 102,
     "metadata": {},
     "output_type": "execute_result"
    },
    {
     "data": {
      "image/png": "[encoded data removed]",
      "text/plain": [
       "<Figure size 432x288 with 1 Axes>"
      ]
     },
     "metadata": {},
     "output_type": "display_data"
    }
   ],
   "source": [
    "fig, ax = plt.subplots()\n",
    "train_data_10users['start_hour'].plot(kind='hist', color='darkgreen', ax=ax)\n",
    "ax.set_xlabel(u'Час начала сессии')\n",
    "ax.set_ylabel(u'Частота')\n",
    "ax.set_title(u'Распределение часа начала сесии')"
   ]
  },
  {
   "cell_type": "markdown",
   "metadata": {},
   "source": [
    "Построим гистограммы распределения часа начала сессии (start_hour) для каждого из 10 пользователей по отдельности."
   ]
  },
  {
   "cell_type": "code",
   "execution_count": 104,
   "metadata": {},
   "outputs": [
    {
     "data": {
      "image/png": "[encoded data removed]",
      "text/plain": [
       "<Figure size 1152x720 with 12 Axes>"
      ]
     },
     "metadata": {},
     "output_type": "display_data"
    }
   ],
   "source": [
    "fig, ax = plt.subplots(nrows=3, ncols=4, figsize=(16, 10))\n",
    "\n",
    "for idx, (user, sub_df) in enumerate(train_data_10users.groupby('target')):\n",
    "    i, j = idx // 4, idx % 4\n",
    "    start_hour_hist = sub_df['start_hour']\n",
    "    bins = range(start_hour_hist.min(), int(np.ceil(start_hour_hist.max())) + 1)\n",
    "    ax[i, j].hist(start_hour_hist, label=user, color=color_dic[user], edgecolor='black', bins=bins, align='left')\n",
    "    ax[i, j].legend()\n",
    "    ax[i, j].set_xlabel(u'Час начала сессии, [ч]')\n",
    "    ax[i, j].set_ylabel(u'Количество')\n",
    "    plt.tight_layout()"
   ]
  },
  {
   "cell_type": "markdown",
   "metadata": {},
   "source": [
    "Построим гистограмму распределения дня недели, в который началась сессия (*day_of_week*)."
   ]
  },
  {
   "cell_type": "code",
   "execution_count": 105,
   "metadata": {},
   "outputs": [
    {
     "data": {
      "image/png": "[encoded data removed]",
      "text/plain": [
       "<Figure size 432x288 with 1 Axes>"
      ]
     },
     "metadata": {},
     "output_type": "display_data"
    }
   ],
   "source": [
    "fig, ax = plt.subplots()\n",
    "train_data_10users['day_of_week'].plot(kind='hist', ax=ax, color='sienna', bins=range(8))\n",
    "ax.set_xlabel(u'День недели')\n",
    "ax.set_ylabel(u'Частота')\n",
    "ax.set_xticklabels([u'Пн', u'Вт', u'Ср', u'Чт', u'Пт', u'Сб',  u'Вс'])\n",
    "ax.set_title(u'Распределение дня недели начала сесии');"
   ]
  },
  {
   "cell_type": "markdown",
   "metadata": {},
   "source": [
    "Построим гистограммы распределения дня недели, в который началась сессия (*day_of_week*) для каждого из 10 пользователей по отдельности."
   ]
  },
  {
   "cell_type": "code",
   "execution_count": 106,
   "metadata": {},
   "outputs": [
    {
     "data": {
      "image/png": "[encoded data removed]",
      "text/plain": [
       "<Figure size 1152x720 with 12 Axes>"
      ]
     },
     "metadata": {},
     "output_type": "display_data"
    }
   ],
   "source": [
    "fig, ax = plt.subplots(nrows=3, ncols=4, figsize=(16, 10))\n",
    "\n",
    "for idx, (user, sub_df) in enumerate(train_data_10users.groupby('target')):\n",
    "    i, j = idx // 4, idx % 4\n",
    "    day_of_week_hist = sub_df['day_of_week']\n",
    "    bins = range(0, 8)\n",
    "    ax[i, j].hist(day_of_week_hist, label=user, color=color_dic[user], edgecolor='black', bins=bins, align='left')\n",
    "    ax[i, j].legend()\n",
    "    ax[i, j].set_xlabel(u'День недели')\n",
    "    ax[i, j].set_ylabel(u'Количество')\n",
    "    plt.tight_layout()\n",
    "    ax[i, j].set_xticks(range(0, 7))\n",
    "    ax[i, j].set_xticklabels([u'Пн', u'Вт', u'Ср', u'Чт', u'Пт', u'Сб', u'Вс'])"
   ]
  },
  {
   "cell_type": "markdown",
   "metadata": {},
   "source": [
    "Выводы по каждому из пользователей:\n",
    "\n",
    "* Ashley: 8-9 уникальных сайтов за сессию; утром и в обед; только в будние дни (в среду пик активности)\n",
    "* Avril: 6 уникальных сайтов за сессию; в обед и сразу после работы; пик активности середина рабочей недели и вс\n",
    "* Bill: 8-9 уникальных сайтов за сессию;  утром и в обед; пик активности приходится на начало рабочей недели\n",
    "* Lindsey: 7-8 уникальных сайтов за сессию; в течении рабочего дня с пиком в обед; пик в вт-ср\n",
    "* Dick: равномерно, кроме пн и вт; утром, днём и вечером; выходные и середина недели\n",
    "* Ed: 7-8 уникальных сайтов за сессию; равномерно, пик после обеда; выходные и середина недели\n",
    "* John: 6-7 уникальных сайтов за сессию; в течение рабочего дня; в основном будние дни с увеличением к пятнице\n",
    "* Mary-Kate: равномерно, кроме пн и вт; равномерно; чаще в выходные\n",
    "* Naomi: 6-7 уникальных сайтов за сессию; в обед и поздний вечер; чаще в рабочие дни\n",
    "* Bob: 6-7 уникальных сайтов за сессию; утром и в обед; только в будние дни"
   ]
  },
  {
   "cell_type": "markdown",
   "metadata": {},
   "source": [
    "Загрузим сохраненный ранее в pickle-файл частотный словарь сайтов для 10 пользователей. Определим топ-10 самых посещаемых сайтов (*top10_sites*) и соответствующие кол-ва посещений (*top10_freqs*)."
   ]
  },
  {
   "cell_type": "code",
   "execution_count": 107,
   "metadata": {},
   "outputs": [],
   "source": [
    "with open(\"capstone_websites_data/site_freq_10users.pkl\") as fid:\n",
    "    site_freq_10 = pickle.load(fid)"
   ]
  },
  {
   "cell_type": "code",
   "execution_count": 108,
   "metadata": {},
   "outputs": [],
   "source": [
    "def itemgetter_own(*items):\n",
    "    if len(items) == 1:\n",
    "        item = items[0]\n",
    "        def g(obj):\n",
    "            return obj[item][1]\n",
    "    return g"
   ]
  },
  {
   "cell_type": "code",
   "execution_count": 109,
   "metadata": {},
   "outputs": [
    {
     "data": {
      "text/plain": [
       "[('www.google.fr', (51, 7809)),\n",
       " ('s.youtube.com', (210, 6532)),\n",
       " ('www.google.com', (4, 5068)),\n",
       " ('mail.google.com', (183, 4093)),\n",
       " ('www.facebook.com', (15, 4081)),\n",
       " ('apis.google.com', (52, 3756)),\n",
       " ('plus.google.com', (187, 2611)),\n",
       " ('r1---sn-gxo5uxg-jqbe.googlevideo.com', (214, 2187)),\n",
       " ('accounts.google.com', (184, 2087)),\n",
       " ('r3---sn-gxo5uxg-jqbe.googlevideo.com', (700, 2010))]"
      ]
     },
     "execution_count": 109,
     "metadata": {},
     "output_type": "execute_result"
    }
   ],
   "source": [
    "top10_popular = sorted(site_freq_10.items(), key=itemgetter_own(1), reverse=True)[:10]\n",
    "top10_popular"
   ]
  },
  {
   "cell_type": "code",
   "execution_count": 110,
   "metadata": {},
   "outputs": [],
   "source": [
    "top10_freqs = [freq for _, (ind, freq) in top10_popular]\n",
    "top10_sites = [site for site, _ in top10_popular]"
   ]
  },
  {
   "cell_type": "code",
   "execution_count": 111,
   "metadata": {},
   "outputs": [
    {
     "name": "stdout",
     "output_type": "stream",
     "text": [
      "[('www.google.fr', 7809), ('s.youtube.com', 6532), ('www.google.com', 5068), ('mail.google.com', 4093), ('www.facebook.com', 4081), ('apis.google.com', 3756), ('plus.google.com', 2611), ('r1---sn-gxo5uxg-jqbe.googlevideo.com', 2187), ('accounts.google.com', 2087), ('r3---sn-gxo5uxg-jqbe.googlevideo.com', 2010)]\n"
     ]
    }
   ],
   "source": [
    "print(zip(top10_sites, top10_freqs))"
   ]
  },
  {
   "cell_type": "markdown",
   "metadata": {},
   "source": [
    "Нарисуем seaborn barplot, показывающий частоты посещений топ-10 сайтов."
   ]
  },
  {
   "cell_type": "code",
   "execution_count": 122,
   "metadata": {},
   "outputs": [
    {
     "data": {
      "image/png": "[encoded data removed]",
      "text/plain": [
       "<Figure size 432x288 with 1 Axes>"
      ]
     },
     "metadata": {},
     "output_type": "display_data"
    }
   ],
   "source": [
    "ax = sns.barplot(top10_sites, top10_freqs)\n",
    "ax.set_xticklabels(top10_sites, rotation=90);"
   ]
  },
  {
   "cell_type": "markdown",
   "metadata": {},
   "source": [
    "#### * Дальнейшее построение признаков"
   ]
  },
  {
   "cell_type": "markdown",
   "metadata": {},
   "source": [
    "Напишем функцию для создания новых признаков (время суток, среднее время пребывания на сайте, частота посещения Facebook и прочие) и применим ее к исходным данным – каталогам с 10 и 150 файлами."
   ]
  },
  {
   "cell_type": "code",
   "execution_count": 117,
   "metadata": {},
   "outputs": [],
   "source": [
    "def feature_engineering(df_data):\n",
    "    df_new_data = df_data.copy()\n",
    "    df_new_data['log_session_timespan'] = df_new_data['session_timespan'].apply(lambda x: np.log(x + 1))\n",
    "    df_new_data['log_sess_ts_avg'] = df_new_data['log_session_timespan']/df_new_data['#unique_sites']\n",
    "    df_new_data['ind_morning'] = df_new_data['start_hour'].apply(lambda x: int(6 <= x and x < 12))\n",
    "    df_new_data['ind_afternoon'] = df_new_data['start_hour'].apply(lambda x: int(12 <= x and x < 18))\n",
    "    df_new_data['ind_evening'] = df_new_data['start_hour'].apply(lambda x: int(18 <= x and x < 24))\n",
    "    df_new_data['ind_weekend'] = df_new_data['day_of_week'].apply(lambda x: int(x >= 5))\n",
    "    time_diff_list = ['time_diff' + str(i) for i in range(1,10)]\n",
    "    df_new_data['low_time_diff'] = (df_new_data[time_diff_list].apply(np.abs) < 2).sum(axis = 1)\n",
    "    new_features_list = ['log_session_timespan', 'log_sess_ts_avg', 'ind_morning',\n",
    "                        'ind_afternoon', 'ind_evening', 'ind_weekend', 'low_time_diff']\n",
    "    for (i, j) in combinations(['site' + str(i) for i in range(1, 11)], 2):\n",
    "        df_new_data[i + \"#\" + j] = df_new_data[i].apply(str) + \"#\" + df_new_data[j].apply(str)\n",
    "        new_features_list.append(i + \"#\" + j)\n",
    "    return df_new_data[new_features_list]"
   ]
  },
  {
   "cell_type": "code",
   "execution_count": 118,
   "metadata": {},
   "outputs": [],
   "source": [
    "new_features_10users = feature_engineering(train_data_10users)\n",
    "new_features_150users = feature_engineering(train_data_150users)"
   ]
  },
  {
   "cell_type": "markdown",
   "metadata": {},
   "source": [
    "Проверим новые признаки на информативмость."
   ]
  },
  {
   "cell_type": "code",
   "execution_count": 119,
   "metadata": {},
   "outputs": [
    {
     "data": {
      "text/plain": [
       "Text(0,0.5,u'\\u0427\\u0430\\u0441\\u0442\\u043e\\u0442\\u0430')"
      ]
     },
     "execution_count": 119,
     "metadata": {},
     "output_type": "execute_result"
    },
    {
     "data": {
      "image/png": "[encoded data removed]",
      "text/plain": [
       "<Figure size 432x288 with 1 Axes>"
      ]
     },
     "metadata": {},
     "output_type": "display_data"
    }
   ],
   "source": [
    "fig, ax = plt.subplots()\n",
    "new_features_10users['log_session_timespan'].plot(kind='hist', color='darkviolet', ax=ax, bins = 20)\n",
    "ax.set_xlabel(u'Логарифм длины сессии (сек.)')\n",
    "ax.set_ylabel(u'Частота')"
   ]
  },
  {
   "cell_type": "code",
   "execution_count": 120,
   "metadata": {},
   "outputs": [],
   "source": [
    "features_with_target = pd.concat([new_features_10users, train_data_10users['target']], axis=1)"
   ]
  },
  {
   "cell_type": "code",
   "execution_count": 123,
   "metadata": {},
   "outputs": [
    {
     "data": {
      "image/png": "[encoded data removed]",
      "text/plain": [
       "<Figure size 1152x720 with 12 Axes>"
      ]
     },
     "metadata": {},
     "output_type": "display_data"
    }
   ],
   "source": [
    "fig, axes = plt.subplots(nrows=3, ncols=4, figsize=(16, 10))\n",
    "\n",
    "for idx, (user, sub_df) in enumerate(features_with_target.groupby('target')):\n",
    "    i, j = idx // 4, idx % 4\n",
    "    start_hist = sub_df['log_session_timespan']\n",
    "    bins = 10\n",
    "    axes[i, j].hist(start_hist, label=user, color=color_dic[user], edgecolor='black', bins=bins, align='left')\n",
    "    axes[i, j].legend()\n",
    "    axes[i, j].set_xlabel(u'Логарифм длины сессии')\n",
    "    axes[i, j].set_ylabel(u'Частота')\n",
    "    plt.tight_layout()    "
   ]
  },
  {
   "cell_type": "markdown",
   "metadata": {},
   "source": [
    "По этому признаку можем выделить несколько групп пользователей: Dick, Mary-Kate, Naomi; John, Lindsey, Bob, Avril, все остальные."
   ]
  },
  {
   "cell_type": "code",
   "execution_count": 124,
   "metadata": {},
   "outputs": [
    {
     "data": {
      "text/plain": [
       "Text(0,0.5,u'\\u0427\\u0430\\u0441\\u0442\\u043e\\u0442\\u0430')"
      ]
     },
     "execution_count": 124,
     "metadata": {},
     "output_type": "execute_result"
    },
    {
     "data": {
      "image/png": "[encoded data removed]",
      "text/plain": [
       "<Figure size 432x288 with 1 Axes>"
      ]
     },
     "metadata": {},
     "output_type": "display_data"
    }
   ],
   "source": [
    "fig, ax = plt.subplots()\n",
    "new_features_10users['log_sess_ts_avg'].plot(kind='hist', color='darkviolet', ax=ax, bins = 20)\n",
    "ax.set_xlabel(u'Среднее логарифма времени проводимого на сайте (сек.)')\n",
    "ax.set_ylabel(u'Частота')"
   ]
  },
  {
   "cell_type": "code",
   "execution_count": 125,
   "metadata": {},
   "outputs": [
    {
     "data": {
      "image/png": "[encoded data removed]",
      "text/plain": [
       "<Figure size 1152x720 with 12 Axes>"
      ]
     },
     "metadata": {},
     "output_type": "display_data"
    }
   ],
   "source": [
    "fig, axes = plt.subplots(nrows=3, ncols=4, figsize=(16, 10))\n",
    "\n",
    "for idx, (user, sub_df) in enumerate(features_with_target.groupby('target')):\n",
    "    i, j = idx // 4, idx % 4\n",
    "    start_hist = sub_df['log_sess_ts_avg']\n",
    "    bins = 15\n",
    "    axes[i, j].hist(start_hist, label=user, color=color_dic[user], edgecolor='black', bins=bins, align='left')\n",
    "    axes[i, j].legend()\n",
    "    axes[i, j].set_xlabel(u'Среднее логарифма на сайте')\n",
    "    axes[i, j].set_ylabel(u'Частота')\n",
    "    plt.tight_layout()       "
   ]
  },
  {
   "cell_type": "markdown",
   "metadata": {},
   "source": [
    "Видим, что есть различные виды распределений данного признака, т.е. его тоже можно использовать для идентификации пользователей."
   ]
  },
  {
   "cell_type": "code",
   "execution_count": 126,
   "metadata": {},
   "outputs": [
    {
     "data": {
      "text/plain": [
       "<matplotlib.axes._subplots.AxesSubplot at 0x1a17577510>"
      ]
     },
     "execution_count": 126,
     "metadata": {},
     "output_type": "execute_result"
    },
    {
     "data": {
      "image/png": "[encoded data removed]",
      "text/plain": [
       "<Figure size 1080x720 with 4 Axes>"
      ]
     },
     "metadata": {},
     "output_type": "display_data"
    }
   ],
   "source": [
    "fig, ax = plt.subplots(nrows=2, ncols=2, figsize=(15,10))\n",
    "sns.countplot(new_features_10users['ind_morning'], ax=ax[0,0])\n",
    "sns.countplot(new_features_10users['ind_afternoon'], ax=ax[0,1])\n",
    "sns.countplot(new_features_10users['ind_evening'], ax=ax[1,0])"
   ]
  },
  {
   "cell_type": "code",
   "execution_count": 127,
   "metadata": {},
   "outputs": [
    {
     "data": {
      "image/png": "[encoded data removed]",
      "text/plain": [
       "<Figure size 1152x720 with 12 Axes>"
      ]
     },
     "metadata": {},
     "output_type": "display_data"
    }
   ],
   "source": [
    "fig, axes = plt.subplots(nrows=3, ncols=4, figsize=(16, 10))\n",
    "\n",
    "for idx, (user, sub_df) in enumerate(features_with_target.groupby('target')):\n",
    "    i, j = idx // 4, idx % 4\n",
    "    start_hist = sub_df['ind_morning']\n",
    "    bins = 10\n",
    "    axes[i, j].hist(start_hist, label=user, color=color_dic[user], edgecolor='black', bins=bins, align='left')\n",
    "    axes[i, j].legend()\n",
    "    plt.tight_layout()     "
   ]
  },
  {
   "cell_type": "code",
   "execution_count": 128,
   "metadata": {},
   "outputs": [
    {
     "data": {
      "image/png": "[encoded data removed]",
      "text/plain": [
       "<Figure size 1152x720 with 12 Axes>"
      ]
     },
     "metadata": {},
     "output_type": "display_data"
    }
   ],
   "source": [
    "fig, axes = plt.subplots(nrows=3, ncols=4, figsize=(16, 10))\n",
    "\n",
    "for idx, (user, sub_df) in enumerate(features_with_target.groupby('target')):\n",
    "    i, j = idx // 4, idx % 4\n",
    "    start_hist = sub_df['ind_afternoon']\n",
    "    bins = 10\n",
    "    axes[i, j].hist(start_hist, label=user, color=color_dic[user], edgecolor='black', bins=bins, align='left')\n",
    "    axes[i, j].legend()\n",
    "    plt.tight_layout()   "
   ]
  },
  {
   "cell_type": "code",
   "execution_count": 129,
   "metadata": {},
   "outputs": [
    {
     "data": {
      "image/png": "[encoded data removed]",
      "text/plain": [
       "<Figure size 1152x720 with 12 Axes>"
      ]
     },
     "metadata": {},
     "output_type": "display_data"
    }
   ],
   "source": [
    "fig, axes = plt.subplots(nrows=3, ncols=4, figsize=(16, 10))\n",
    "\n",
    "for idx, (user, sub_df) in enumerate(features_with_target.groupby('target')):\n",
    "    i, j = idx // 4, idx % 4\n",
    "    start_hist = sub_df['ind_evening']\n",
    "    bins = 10\n",
    "    axes[i, j].hist(start_hist, label=user, color=color_dic[user], edgecolor='black', bins=bins, align='left')\n",
    "    axes[i, j].legend()\n",
    "    plt.tight_layout() "
   ]
  },
  {
   "cell_type": "markdown",
   "metadata": {},
   "source": [
    "Все три признака позволяют различать пользователей и достаточно информативны."
   ]
  },
  {
   "cell_type": "code",
   "execution_count": 130,
   "metadata": {},
   "outputs": [
    {
     "data": {
      "text/plain": [
       "Text(0,0.5,u'\\u0427\\u0430\\u0441\\u0442\\u043e\\u0442\\u0430')"
      ]
     },
     "execution_count": 130,
     "metadata": {},
     "output_type": "execute_result"
    },
    {
     "data": {
      "image/png": "[encoded data removed]",
      "text/plain": [
       "<Figure size 576x288 with 1 Axes>"
      ]
     },
     "metadata": {},
     "output_type": "display_data"
    }
   ],
   "source": [
    "fig, ax = plt.subplots(figsize=(8,4))\n",
    "new_features_10users['low_time_diff'].plot(kind='hist', color='darkviolet', ax=ax, bins = 9)\n",
    "ax.set_xlabel(u'Число коротких промежутков времени, проведенных на сайтах')\n",
    "ax.set_ylabel(u'Частота')"
   ]
  },
  {
   "cell_type": "code",
   "execution_count": 131,
   "metadata": {},
   "outputs": [
    {
     "data": {
      "image/png": "[encoded data removed]",
      "text/plain": [
       "<Figure size 1152x720 with 12 Axes>"
      ]
     },
     "metadata": {},
     "output_type": "display_data"
    }
   ],
   "source": [
    "fig, axes = plt.subplots(nrows=3, ncols=4, figsize=(16, 10))\n",
    "\n",
    "for idx, (user, sub_df) in enumerate(features_with_target.groupby('target')):\n",
    "    i, j = idx // 4, idx % 4\n",
    "    start_hist = sub_df['low_time_diff']\n",
    "    bins = 15\n",
    "    axes[i, j].hist(start_hist, label=user, color=color_dic[user], edgecolor='black', bins=bins, align='left')\n",
    "    axes[i, j].legend()\n",
    "    axes[i, j].set_xlabel(u'Число коротких просмотров')\n",
    "    axes[i, j].set_ylabel(u'Частота')\n",
    "    plt.tight_layout()   "
   ]
  },
  {
   "cell_type": "markdown",
   "metadata": {},
   "source": [
    "Этот признак также является полезным в различении пользователей."
   ]
  },
  {
   "cell_type": "markdown",
   "metadata": {},
   "source": [
    "Сохраним в pickle-файлы те признаки, которые помогут идентифицировать пользователя более точно."
   ]
  },
  {
   "cell_type": "code",
   "execution_count": 132,
   "metadata": {},
   "outputs": [],
   "source": [
    "features_list = ['site' + str(i) for i in range(1, 11)] + \\\n",
    "                ['time_diff' + str(i) for i in range(1,10)] + ['#unique_sites', 'start_hour', 'day_of_week']"
   ]
  },
  {
   "cell_type": "code",
   "execution_count": 133,
   "metadata": {},
   "outputs": [],
   "source": [
    "selected_features_10users = pd.concat([train_data_10users[features_list], new_features_10users],axis=1)\n",
    "selected_features_150users=pd.concat([train_data_150users[features_list],new_features_150users],axis=1) "
   ]
  },
  {
   "cell_type": "code",
   "execution_count": 134,
   "metadata": {},
   "outputs": [],
   "source": [
    "with open('capstone_websites_data/selected_features_10users.pkl', 'wb') as selected_features_10users_pkl:\n",
    "    pickle.dump(selected_features_10users, selected_features_10users_pkl)\n",
    "with open('capstone_websites_data/selected_features_150users.pkl', 'wb') as selected_features_150users_pkl:\n",
    "    pickle.dump(selected_features_150users, selected_features_150users_pkl)"
   ]
  },
  {
   "cell_type": "markdown",
   "metadata": {},
   "source": [
    "### Сравнение алгоритмов классификации"
   ]
  },
  {
   "cell_type": "markdown",
   "metadata": {},
   "source": [
    "#### * Сравнение нескольких алгоритмов на сессиях из 10 сайтов"
   ]
  },
  {
   "cell_type": "markdown",
   "metadata": {},
   "source": [
    "Загрузим сериализованные ранее объекты *X_sparse_10users* и *y_10users*, соответствующие обучающей выборке для 10 пользователей. Разобьем выборку на 2 части. На одной будем проводить кросс-валидацию, на второй – оценивать модель, обученную после кросс-валидации. Тип кросс-валидации: 3-кратная, с перемешиванием, параметр random_state=7 – для воспроизводимости."
   ]
  },
  {
   "cell_type": "code",
   "execution_count": 135,
   "metadata": {},
   "outputs": [],
   "source": [
    "with open('capstone_websites_data/X_sparse_10users.pkl', 'rb') as X_sparse_10users_pkl:\n",
    "    X_sparse_10users = pickle.load(X_sparse_10users_pkl)\n",
    "with open('capstone_websites_data/y_10users.pkl', 'rb') as y_10users_pkl:\n",
    "    y_10users = pickle.load(y_10users_pkl)"
   ]
  },
  {
   "cell_type": "code",
   "execution_count": 136,
   "metadata": {},
   "outputs": [],
   "source": [
    "X_train, X_valid, y_train, y_valid = train_test_split(X_sparse_10users, y_10users, \n",
    "                                                      test_size=0.3, \n",
    "                                                     random_state=7, stratify=y_10users)"
   ]
  },
  {
   "cell_type": "code",
   "execution_count": 137,
   "metadata": {},
   "outputs": [],
   "source": [
    "skf = StratifiedKFold(n_splits=3, shuffle=True, random_state=7)"
   ]
  },
  {
   "cell_type": "markdown",
   "metadata": {},
   "source": [
    "Вспомогательная функция для отрисовки кривых валидации после запуска GridSearchCV (или RandomizedCV)."
   ]
  },
  {
   "cell_type": "code",
   "execution_count": 138,
   "metadata": {},
   "outputs": [],
   "source": [
    "def plot_validation_curves(param_values, grid_cv_results_):\n",
    "    train_mu, train_std = grid_cv_results_['mean_train_score'], grid_cv_results_['std_train_score']\n",
    "    valid_mu, valid_std = grid_cv_results_['mean_test_score'], grid_cv_results_['std_test_score']\n",
    "    train_line = plt.plot(param_values, train_mu, '-', label='train', color='green')\n",
    "    valid_line = plt.plot(param_values, valid_mu, '-', label='test', color='red')\n",
    "    plt.fill_between(param_values, train_mu - train_std, train_mu + train_std, edgecolor='none',\n",
    "                     facecolor=train_line[0].get_color(), alpha=0.2)\n",
    "    plt.fill_between(param_values, valid_mu - valid_std, valid_mu + valid_std, edgecolor='none',\n",
    "                     facecolor=valid_line[0].get_color(), alpha=0.2)\n",
    "    plt.legend()"
   ]
  },
  {
   "cell_type": "markdown",
   "metadata": {},
   "source": [
    "Обучим KNeighborsClassifier со 100 ближайшими соседями (остальные параметры оставьте по умолчанию, только n_jobs=-1 для распараллеливания) и посмотрим на долю правильных ответов на 3-кратной кросс-валидации (ради воспроизводимости используйте для этого объект StratifiedKFold skf) по выборке (X_train, y_train) и отдельно на выборке (X_valid, y_valid)."
   ]
  },
  {
   "cell_type": "code",
   "execution_count": 139,
   "metadata": {},
   "outputs": [],
   "source": [
    "knn = KNeighborsClassifier(n_neighbors=100, n_jobs=-1)"
   ]
  },
  {
   "cell_type": "code",
   "execution_count": 140,
   "metadata": {},
   "outputs": [
    {
     "name": "stdout",
     "output_type": "stream",
     "text": [
      "CPU times: user 216 ms, sys: 172 ms, total: 388 ms\n",
      "Wall time: 2.15 s\n"
     ]
    }
   ],
   "source": [
    "%%time\n",
    "knn_cv_scores = cross_val_score(knn, X_train, y_train, cv=skf, n_jobs=-1)"
   ]
  },
  {
   "cell_type": "code",
   "execution_count": 141,
   "metadata": {},
   "outputs": [
    {
     "data": {
      "text/plain": [
       "KNeighborsClassifier(algorithm='auto', leaf_size=30, metric='minkowski',\n",
       "           metric_params=None, n_jobs=-1, n_neighbors=100, p=2,\n",
       "           weights='uniform')"
      ]
     },
     "execution_count": 141,
     "metadata": {},
     "output_type": "execute_result"
    }
   ],
   "source": [
    "knn.fit(X_train, y_train)"
   ]
  },
  {
   "cell_type": "code",
   "execution_count": 142,
   "metadata": {},
   "outputs": [
    {
     "name": "stdout",
     "output_type": "stream",
     "text": [
      "CPU times: user 1.42 s, sys: 1.29 s, total: 2.7 s\n",
      "Wall time: 3.95 s\n"
     ]
    }
   ],
   "source": [
    "%%time\n",
    "knn_valid_acc = accuracy_score(y_valid, knn.predict(X_valid))\n",
    "knn_valid_acc"
   ]
  },
  {
   "cell_type": "markdown",
   "metadata": {},
   "source": [
    "Обучим случайный лес (RandomForestClassifier) из 100 деревьев (для воспроизводимости random_state=7). Посмотрим на OOB-оценку (oob_score=True) и на долю правильных ответов на выборке (X_valid, y_valid). Для распараллеливания n_jobs=-1."
   ]
  },
  {
   "cell_type": "code",
   "execution_count": 143,
   "metadata": {},
   "outputs": [],
   "source": [
    "forest = RandomForestClassifier(n_estimators=100, random_state=7, oob_score=True)"
   ]
  },
  {
   "cell_type": "code",
   "execution_count": 144,
   "metadata": {},
   "outputs": [
    {
     "data": {
      "text/plain": [
       "RandomForestClassifier(bootstrap=True, class_weight=None, criterion='gini',\n",
       "            max_depth=None, max_features='auto', max_leaf_nodes=None,\n",
       "            min_impurity_decrease=0.0, min_impurity_split=None,\n",
       "            min_samples_leaf=1, min_samples_split=2,\n",
       "            min_weight_fraction_leaf=0.0, n_estimators=100, n_jobs=1,\n",
       "            oob_score=True, random_state=7, verbose=0, warm_start=False)"
      ]
     },
     "execution_count": 144,
     "metadata": {},
     "output_type": "execute_result"
    }
   ],
   "source": [
    "forest.fit(X_train, y_train)"
   ]
  },
  {
   "cell_type": "code",
   "execution_count": 145,
   "metadata": {},
   "outputs": [
    {
     "data": {
      "text/plain": [
       "0.71233171782444804"
      ]
     },
     "execution_count": 145,
     "metadata": {},
     "output_type": "execute_result"
    }
   ],
   "source": [
    "forest.oob_score_"
   ]
  },
  {
   "cell_type": "code",
   "execution_count": 146,
   "metadata": {},
   "outputs": [
    {
     "data": {
      "text/plain": [
       "0.71909547738693469"
      ]
     },
     "execution_count": 146,
     "metadata": {},
     "output_type": "execute_result"
    }
   ],
   "source": [
    "rf_valid_acc = accuracy_score(y_valid, forest.predict(X_valid))\n",
    "rf_valid_acc"
   ]
  },
  {
   "cell_type": "markdown",
   "metadata": {},
   "source": [
    "Обучим логистическую регрессию (LogisticRegression) с параметром C по умолчанию и random_state=7 (для воспроизводимости). Посмотрим на долю правильных ответов на кросс-валидации (используйте объект skf) и на выборке (X_valid, y_valid). Для распараллеливания n_jobs=-1."
   ]
  },
  {
   "cell_type": "code",
   "execution_count": 147,
   "metadata": {},
   "outputs": [],
   "source": [
    "logit = LogisticRegression(random_state=7)"
   ]
  },
  {
   "cell_type": "code",
   "execution_count": 148,
   "metadata": {},
   "outputs": [
    {
     "name": "stdout",
     "output_type": "stream",
     "text": [
      "CPU times: user 142 ms, sys: 68.8 ms, total: 210 ms\n",
      "Wall time: 1.42 s\n"
     ]
    }
   ],
   "source": [
    "%%time\n",
    "logit_cv_scores = cross_val_score(logit, X_train, y_train, cv=skf, n_jobs=-1)"
   ]
  },
  {
   "cell_type": "code",
   "execution_count": 149,
   "metadata": {},
   "outputs": [
    {
     "data": {
      "text/plain": [
       "LogisticRegression(C=1.0, class_weight=None, dual=False, fit_intercept=True,\n",
       "          intercept_scaling=1, max_iter=100, multi_class='ovr', n_jobs=1,\n",
       "          penalty='l2', random_state=7, solver='liblinear', tol=0.0001,\n",
       "          verbose=0, warm_start=False)"
      ]
     },
     "execution_count": 149,
     "metadata": {},
     "output_type": "execute_result"
    }
   ],
   "source": [
    "logit.fit(X_train, y_train)"
   ]
  },
  {
   "cell_type": "code",
   "execution_count": 150,
   "metadata": {},
   "outputs": [
    {
     "data": {
      "text/plain": [
       "0.78492462311557787"
      ]
     },
     "execution_count": 150,
     "metadata": {},
     "output_type": "execute_result"
    }
   ],
   "source": [
    "accuracy_score(y_valid, logit.predict(X_valid))"
   ]
  },
  {
   "cell_type": "markdown",
   "metadata": {},
   "source": [
    "С помощью LogisticRegressionCV подберём параметр C для LogisticRegression сначала в широком диапазоне: 10 значений от 1e-4 до 1e4. У  LogisticRegressionCV параметры multi_class='multinomial' и random_state=7. Для кросс-валидации используйте объект skf. Для распараллеливания n_jobs=-1. Нарисуем кривые валидации по параметру С."
   ]
  },
  {
   "cell_type": "code",
   "execution_count": 153,
   "metadata": {},
   "outputs": [
    {
     "name": "stdout",
     "output_type": "stream",
     "text": [
      "CPU times: user 2.66 s, sys: 389 ms, total: 3.05 s\n",
      "Wall time: 58.4 s\n"
     ]
    }
   ],
   "source": [
    "%%time\n",
    "logit_c_values2 = np.linspace(1e-3, 1, 30)\n",
    "logit_grid_searcher2 = LogisticRegressionCV(Cs=logit_c_values2, cv=skf, random_state=7, n_jobs=-1, multi_class='multinomial')\n",
    "logit_grid_searcher2.fit(X_train, y_train)"
   ]
  },
  {
   "cell_type": "markdown",
   "metadata": {},
   "source": [
    "Выведите лучшее значение доли правильных ответов на кросс-валидации и соответствующее значение С."
   ]
  },
  {
   "cell_type": "code",
   "execution_count": 155,
   "metadata": {},
   "outputs": [],
   "source": [
    "logit_mean_cv_scores2 = logit_grid_searcher2.scores_[31].mean(axis=0)"
   ]
  },
  {
   "cell_type": "code",
   "execution_count": 156,
   "metadata": {},
   "outputs": [
    {
     "name": "stdout",
     "output_type": "stream",
     "text": [
      "0.7598300573 1.0\n"
     ]
    }
   ],
   "source": [
    "print(logit_mean_cv_scores2.max(), logit_grid_searcher2.Cs_[logit_mean_cv_scores2.argmax()])"
   ]
  },
  {
   "cell_type": "code",
   "execution_count": 157,
   "metadata": {},
   "outputs": [
    {
     "data": {
      "image/png": "[encoded data removed]",
      "text/plain": [
       "<Figure size 432x288 with 1 Axes>"
      ]
     },
     "metadata": {},
     "output_type": "display_data"
    }
   ],
   "source": [
    "plot(logit_c_values2, logit_mean_cv_scores2);"
   ]
  },
  {
   "cell_type": "markdown",
   "metadata": {},
   "source": [
    "Обучим линейный SVM (LinearSVC) с параметром C=1 и random_state=7 (для воспроизводимости). Посмотрим на долю правильных ответов на кросс-валидации (используйте объект skf) и на выборке (X_valid, y_valid)."
   ]
  },
  {
   "cell_type": "code",
   "execution_count": 158,
   "metadata": {},
   "outputs": [],
   "source": [
    "svm = LinearSVC(C=1, random_state=7)"
   ]
  },
  {
   "cell_type": "code",
   "execution_count": 159,
   "metadata": {},
   "outputs": [],
   "source": [
    "svm_cv_scores = cross_val_score(svm, X_train, y_train, cv=skf, n_jobs=-1)"
   ]
  },
  {
   "cell_type": "code",
   "execution_count": 160,
   "metadata": {},
   "outputs": [
    {
     "data": {
      "text/plain": [
       "LinearSVC(C=1, class_weight=None, dual=True, fit_intercept=True,\n",
       "     intercept_scaling=1, loss='squared_hinge', max_iter=1000,\n",
       "     multi_class='ovr', penalty='l2', random_state=7, tol=0.0001,\n",
       "     verbose=0)"
      ]
     },
     "execution_count": 160,
     "metadata": {},
     "output_type": "execute_result"
    }
   ],
   "source": [
    "svm.fit(X_train, y_train)"
   ]
  },
  {
   "cell_type": "code",
   "execution_count": 161,
   "metadata": {},
   "outputs": [
    {
     "data": {
      "text/plain": [
       "0.77336683417085428"
      ]
     },
     "execution_count": 161,
     "metadata": {},
     "output_type": "execute_result"
    }
   ],
   "source": [
    "accuracy_score(y_valid, svm.predict(X_valid))"
   ]
  },
  {
   "cell_type": "markdown",
   "metadata": {},
   "source": [
    "С помощью GridSearchCV подберём параметр C для SVM в диапазоне (1e-3, 1), 30 значений. Нарисуем кривые валидации."
   ]
  },
  {
   "cell_type": "code",
   "execution_count": 162,
   "metadata": {},
   "outputs": [
    {
     "name": "stdout",
     "output_type": "stream",
     "text": [
      "CPU times: user 1.66 s, sys: 315 ms, total: 1.98 s\n",
      "Wall time: 1min 4s\n"
     ]
    }
   ],
   "source": [
    "%%time\n",
    "svm_params2 = {'C': np.linspace(1e-3, 1, 30)}\n",
    "svm_grid_searcher2 = GridSearchCV(svm, param_grid=svm_params2, cv=skf, n_jobs=-1)\n",
    "svm_grid_searcher2.fit(X_train, y_train)"
   ]
  },
  {
   "cell_type": "code",
   "execution_count": 163,
   "metadata": {},
   "outputs": [
    {
     "name": "stdout",
     "output_type": "stream",
     "text": [
      "0.763166397415 {'C': 0.13879310344827586}\n"
     ]
    }
   ],
   "source": [
    "print(svm_grid_searcher2.best_score_, svm_grid_searcher2.best_params_)"
   ]
  },
  {
   "cell_type": "code",
   "execution_count": 164,
   "metadata": {},
   "outputs": [
    {
     "data": {
      "image/png": "[encoded data removed]",
      "text/plain": [
       "<Figure size 432x288 with 1 Axes>"
      ]
     },
     "metadata": {},
     "output_type": "display_data"
    }
   ],
   "source": [
    "plot_validation_curves(svm_params2['C'], svm_grid_searcher2.cv_results_)"
   ]
  },
  {
   "cell_type": "markdown",
   "metadata": {},
   "source": [
    "#### * Выбор параметров – длины сессии и ширины окна"
   ]
  },
  {
   "cell_type": "markdown",
   "metadata": {},
   "source": [
    "Возьмем LinearSVC, показавший лучшее качество на кросс-валидации и проверим его работу еще на 8 выборках для 10 пользователей (с разными сочетаниями параметров *session_length* и *window_size*).\n",
    "\n",
    "Определим функцию model_assessment."
   ]
  },
  {
   "cell_type": "code",
   "execution_count": 173,
   "metadata": {},
   "outputs": [],
   "source": [
    "def model_assessment(estimator, path_to_X_pickle, path_to_y_pickle, cv, \n",
    "                     random_state=7, test_size=0.3):\n",
    "    '''\n",
    "    Estimates CV-accuracy for (1 - test_size) share of (X_sparse, y) \n",
    "    loaded from path_to_X_pickle and path_to_y_pickle and holdout accuracy for (test_size) share of (X_sparse, y).\n",
    "    The split is made with stratified train_test_split with params random_state and test_size.\n",
    "    \n",
    "    :param estimator – Scikit-learn estimator (classifier or regressor)\n",
    "    :param path_to_X_pickle – path to pickled sparse X (instances and their features)\n",
    "    :param path_to_y_pickle – path to pickled y (responses)\n",
    "    :param cv – cross-validation as in cross_val_score (use StratifiedKFold here)\n",
    "    :param random_state –  for train_test_split\n",
    "    :param test_size –  for train_test_split\n",
    "    \n",
    "    :returns mean CV-accuracy for (X_train, y_train) and accuracy for (X_valid, y_valid) where (X_train, y_train)\n",
    "    and (X_valid, y_valid) are (1 - test_size) and (testsize) shares of (X_sparse, y).\n",
    "    '''\n",
    "    t_start = time()\n",
    "    # Loading data\n",
    "    with open(path_to_X_pickle, 'rb') as fid:\n",
    "        X_sparse = pickle.load(fid)\n",
    "    with open(path_to_y_pickle, 'rb') as fid:\n",
    "        y = pickle.load(fid)\n",
    "    #print(X_sparse.shape)\n",
    "    # Spliting on train and validation\n",
    "    X_train, X_valid, y_train, y_valid = train_test_split(X_sparse, y, \n",
    "                                                          test_size=test_size, \n",
    "                                                          random_state=random_state,\n",
    "                                                          stratify=y)\n",
    "    \n",
    "    # Cross_validation extimation\n",
    "    scores = cross_val_score(estimator, X_train, y_train, cv=cv, n_jobs=-1)\n",
    "    # Model fitting\n",
    "    estimator.fit(X_train, y_train)\n",
    "    # Accuracy score on validation set\n",
    "    acc_score = accuracy_score(y_valid, estimator.predict(X_valid))\n",
    "    \n",
    "    return scores.mean(), acc_score, time() - t_start"
   ]
  },
  {
   "cell_type": "markdown",
   "metadata": {},
   "source": [
    "Применим функцию *model_assessment* для лучшего алгоритма из предыдущей части (а именно, svm\\_grid\\_searcher2.best\\_estimator\\_) и 9 выборок вида с разными сочетаниями параметров *session_length* и *window_size* для 10 пользователей. Выведем в цикле параметры *session_length* и *window_size*, а также результат вывода функции *model_assessment*. "
   ]
  },
  {
   "cell_type": "code",
   "execution_count": 174,
   "metadata": {},
   "outputs": [
    {
     "data": {
      "text/plain": [
       "(0.76317044850074478, 0.78316582914572863, 2.0529651641845703)"
      ]
     },
     "execution_count": 174,
     "metadata": {},
     "output_type": "execute_result"
    }
   ],
   "source": [
    "model_assessment(svm_grid_searcher2.best_estimator_, \n",
    "                 'capstone_websites_data/X_sparse_10users.pkl',\n",
    "                 'capstone_websites_data/y_10users.pkl', skf, random_state=7, test_size=0.3)"
   ]
  },
  {
   "cell_type": "code",
   "execution_count": 176,
   "metadata": {},
   "outputs": [
    {
     "name": "stdout",
     "output_type": "stream",
     "text": [
      "Session length: 15, Window size: 10\n",
      "(0.82513418469054312, 0.83763925100734771, 3.3480961322784424)\n",
      "Session length: 15, Window size: 7\n",
      "(0.84452352050878676, 0.86892317902770866, 5.123607158660889)\n",
      "Session length: 10, Window size: 7\n",
      "(0.79523445922969482, 0.81864941098390576, 3.4673569202423096)\n",
      "Session length: 7, Window size: 7\n",
      "(0.74957553499595253, 0.7663846026215364, 2.2991409301757812)\n",
      "Session length: 15, Window size: 5\n",
      "(0.86546150322993787, 0.87980085348506398, 10.58650517463684)\n",
      "Session length: 10, Window size: 5\n",
      "(0.81841320290403219, 0.82515410146989099, 5.673277139663696)\n",
      "Session length: 7, Window size: 5\n",
      "(0.77507312972754183, 0.7804646752015173, 3.6008009910583496)\n",
      "Session length: 5, Window size: 5\n",
      "(0.72868540654952696, 0.7316263632053106, 3.0794379711151123)\n",
      "CPU times: user 16 s, sys: 973 ms, total: 17 s\n",
      "Wall time: 37.2 s\n"
     ]
    }
   ],
   "source": [
    "%%time\n",
    "estimator = svm_grid_searcher2.best_estimator_\n",
    "\n",
    "for window_size, session_length in itertools.product([10, 7, 5], [15, 10, 7, 5]):\n",
    "    if window_size <= session_length and (window_size, session_length) != (10, 10):\n",
    "        path_to_X_pkl = 'capstone_websites_data/X_sparse_10users_s' + \\\n",
    "                        str(session_length) + '_w' + str(window_size) + '.pkl'\n",
    "        path_to_y_pkl = 'capstone_websites_data/y_10users_s' + \\\n",
    "                        str(session_length) + '_w' + str(window_size) + '.pkl'\n",
    "        print(\"Session length: {}, Window size: {}\".format(session_length, window_size))\n",
    "        print(model_assessment(estimator, path_to_X_pkl, path_to_y_pkl, skf, random_state=7, test_size=0.3))"
   ]
  },
  {
   "cell_type": "markdown",
   "metadata": {},
   "source": [
    "Сравним для 150 пользователей доли правильных ответов на кросс-валидации и оставленной выборке для сочетаний параметров (*session_length, window_size*): (5,5), (7,7) и (10,10)."
   ]
  },
  {
   "cell_type": "code",
   "execution_count": 177,
   "metadata": {},
   "outputs": [
    {
     "name": "stdout",
     "output_type": "stream",
     "text": [
      "Session length: 5, Window size: 5\n",
      "(0.40886120162069139, 0.42208108239645692, 376.5649781227112)\n",
      "Session length: 7, Window size: 7\n",
      "(0.4359972495897369, 0.45382702592226726, 386.4537510871887)\n",
      "Session length: 10, Window size: 10\n",
      "(0.46174147751856959, 0.48401693183476863, 344.979966878891)\n",
      "CPU times: user 9min 17s, sys: 7.67 s, total: 9min 24s\n",
      "Wall time: 18min 28s\n"
     ]
    }
   ],
   "source": [
    "%%time\n",
    "estimator = svm_grid_searcher2.best_estimator_\n",
    "\n",
    "for window_size, session_length in [(5,5), (7,7), (10,10)]:\n",
    "    if window_size <= session_length and (window_size, session_length):\n",
    "        path_to_X_pkl = 'capstone_websites_data/X_sparse_150users_s' + \\\n",
    "                        str(session_length) + '_w' + str(window_size) + '.pkl'\n",
    "        path_to_y_pkl = 'capstone_websites_data/y_150users_s' + \\\n",
    "                        str(session_length) + '_w' + str(window_size) + '.pkl'\n",
    "        \n",
    "        print(\"Session length: {}, Window size: {}\".format(session_length, window_size))\n",
    "        print(model_assessment(estimator, path_to_X_pkl, path_to_y_pkl, skf, random_state=7, test_size=0.3))"
   ]
  },
  {
   "cell_type": "markdown",
   "metadata": {},
   "source": [
    "#### * Идентификация конкретного пользователя и кривые обучения"
   ]
  },
  {
   "cell_type": "markdown",
   "metadata": {},
   "source": [
    "Загрузим сериализованные ранее объекты *X_sparse_150users* и *y_150users*, соответствующие обучающей выборке для 10 пользователей с параметрами (*session_length, window_size*) = (10,10). Так же точно разобьем их на 70% и 30%."
   ]
  },
  {
   "cell_type": "code",
   "execution_count": 178,
   "metadata": {},
   "outputs": [],
   "source": [
    "with open('capstone_websites_data/X_sparse_150users.pkl', 'rb') as X_sparse_150users_pkl:\n",
    "     X_sparse_150users = pickle.load(X_sparse_150users_pkl)\n",
    "with open('capstone_websites_data/y_150users.pkl', 'rb') as y_150users_pkl:\n",
    "    y_150users = pickle.load(y_150users_pkl)"
   ]
  },
  {
   "cell_type": "code",
   "execution_count": 179,
   "metadata": {},
   "outputs": [],
   "source": [
    "X_train_150, X_valid_150, y_train_150, y_valid_150 = train_test_split(X_sparse_150users, \n",
    "                                                                      y_150users, test_size=0.3, \n",
    "                                                                      random_state=7, stratify=y_150users)"
   ]
  },
  {
   "cell_type": "markdown",
   "metadata": {},
   "source": [
    "Обучим LogisticRegressionCV для одного значения параметра C. Теперь решаем 150 задач \"Один-против-Всех\", поэтому аргумент multi_class='ovr'. Как всегда n_jobs=-1 и random_state=7."
   ]
  },
  {
   "cell_type": "code",
   "execution_count": 180,
   "metadata": {},
   "outputs": [
    {
     "data": {
      "text/plain": [
       "1.0"
      ]
     },
     "execution_count": 180,
     "metadata": {},
     "output_type": "execute_result"
    }
   ],
   "source": [
    "C_opt = logit_grid_searcher2.Cs_[logit_mean_cv_scores2.argmax()]\n",
    "C_opt2 = logit_grid_searcher2.Cs_[logit_mean_cv_scores2.argmax()]\n",
    "C_opt"
   ]
  },
  {
   "cell_type": "code",
   "execution_count": 181,
   "metadata": {},
   "outputs": [
    {
     "name": "stdout",
     "output_type": "stream",
     "text": [
      "CPU times: user 5min 44s, sys: 31.5 s, total: 6min 16s\n",
      "Wall time: 7min 28s\n"
     ]
    }
   ],
   "source": [
    "%%time\n",
    "logit_cv_150users = LogisticRegressionCV(Cs=[C_opt], cv=skf, random_state=7, n_jobs=-1, multi_class='ovr')\n",
    "logit_cv_150users.fit(X_train_150, y_train_150)"
   ]
  },
  {
   "cell_type": "markdown",
   "metadata": {},
   "source": [
    "Посмотрим на средние доли правильных ответов на кросс-валидации в задаче идентификации каждого пользователя по отдельности."
   ]
  },
  {
   "cell_type": "code",
   "execution_count": 182,
   "metadata": {},
   "outputs": [
    {
     "name": "stdout",
     "output_type": "stream",
     "text": [
      "User 1, CV score: 0.996100316562\n",
      "User 2, CV score: 0.996465649458\n",
      "User 3, CV score: 0.995214433137\n",
      "User 4, CV score: 0.992159436432\n",
      "User 5, CV score: 0.990188699739\n",
      "User 6, CV score: 0.994411769248\n",
      "User 7, CV score: 0.993650447827\n",
      "User 8, CV score: 0.985831228894\n",
      "User 9, CV score: 0.998029522399\n",
      "User 10, CV score: 0.995057871644\n",
      "User 11, CV score: 0.994536863482\n",
      "User 12, CV score: 0.993452373891\n",
      "User 13, CV score: 0.996882658137\n",
      "User 14, CV score: 0.994922447987\n",
      "User 15, CV score: 0.996402928\n",
      "User 16, CV score: 0.996194472348\n",
      "User 17, CV score: 0.990772843906\n",
      "User 18, CV score: 0.994463652779\n",
      "User 19, CV score: 0.994693085498\n",
      "User 20, CV score: 0.99134658842\n",
      "User 21, CV score: 0.980367673937\n",
      "User 22, CV score: 0.996726261305\n",
      "User 23, CV score: 0.99470340619\n",
      "User 24, CV score: 0.990772915559\n",
      "User 25, CV score: 0.996590772731\n",
      "User 26, CV score: 0.994213495822\n",
      "User 27, CV score: 0.995089074498\n",
      "User 28, CV score: 0.991586275966\n",
      "User 29, CV score: 0.98467344869\n",
      "User 30, CV score: 0.997299639672\n",
      "User 31, CV score: 0.997195282774\n",
      "User 32, CV score: 0.996892898444\n",
      "User 33, CV score: 0.997403906979\n",
      "User 34, CV score: 0.996528092938\n",
      "User 35, CV score: 0.996569897879\n",
      "User 36, CV score: 0.997445532739\n",
      "User 37, CV score: 0.987749211298\n",
      "User 38, CV score: 0.99662202209\n",
      "User 39, CV score: 0.996267560527\n",
      "User 40, CV score: 0.996674151614\n",
      "User 41, CV score: 0.99017906284\n",
      "User 42, CV score: 0.98944875152\n",
      "User 43, CV score: 0.996350803315\n",
      "User 44, CV score: 0.995798238776\n",
      "User 45, CV score: 0.996069339868\n",
      "User 46, CV score: 0.995068492618\n",
      "User 47, CV score: 0.995871129363\n",
      "User 48, CV score: 0.997070173546\n",
      "User 49, CV score: 0.99495380677\n",
      "User 50, CV score: 0.996361320178\n",
      "User 51, CV score: 0.992086547267\n",
      "User 52, CV score: 0.996059204146\n",
      "User 53, CV score: 0.995871261092\n",
      "User 54, CV score: 0.994974530534\n",
      "User 55, CV score: 0.997268431504\n",
      "User 56, CV score: 0.989782611841\n",
      "User 57, CV score: 0.99283749523\n",
      "User 58, CV score: 0.996705288604\n",
      "User 59, CV score: 0.987196453058\n",
      "User 60, CV score: 0.989240295867\n",
      "User 61, CV score: 0.994255273145\n",
      "User 62, CV score: 0.990356098211\n",
      "User 63, CV score: 0.995860790733\n",
      "User 64, CV score: 0.991095528721\n",
      "User 65, CV score: 0.996955482859\n",
      "User 66, CV score: 0.995610605684\n",
      "User 67, CV score: 0.997477042137\n",
      "User 68, CV score: 0.99590261456\n",
      "User 69, CV score: 0.99668448977\n",
      "User 70, CV score: 0.996694780947\n",
      "User 71, CV score: 0.996017281522\n",
      "User 72, CV score: 0.996861648612\n",
      "User 73, CV score: 0.996507294104\n",
      "User 74, CV score: 0.992368145861\n",
      "User 75, CV score: 0.996705444059\n",
      "User 76, CV score: 0.992388939855\n",
      "User 77, CV score: 0.997497511649\n",
      "User 78, CV score: 0.996559390222\n",
      "User 79, CV score: 0.996549046753\n",
      "User 80, CV score: 0.99101271016\n",
      "User 81, CV score: 0.9969034061\n",
      "User 82, CV score: 0.994422036225\n",
      "User 83, CV score: 0.996184045076\n",
      "User 84, CV score: 0.997049501601\n",
      "User 85, CV score: 0.995276961842\n",
      "User 86, CV score: 0.99708078968\n",
      "User 87, CV score: 0.997674975138\n",
      "User 88, CV score: 0.989261316495\n",
      "User 89, CV score: 0.996913847893\n",
      "User 90, CV score: 0.995422808879\n",
      "User 91, CV score: 0.994161560473\n",
      "User 92, CV score: 0.994005064844\n",
      "User 93, CV score: 0.98446501145\n",
      "User 94, CV score: 0.996788903326\n",
      "User 95, CV score: 0.995704615221\n",
      "User 96, CV score: 0.991846728466\n",
      "User 97, CV score: 0.989646822038\n",
      "User 98, CV score: 0.998352795154\n",
      "User 99, CV score: 0.990950223594\n",
      "User 100, CV score: 0.990199137165\n",
      "User 101, CV score: 0.994182321535\n",
      "User 102, CV score: 0.986664973588\n",
      "User 103, CV score: 0.980691205783\n",
      "User 104, CV score: 0.981462398521\n",
      "User 105, CV score: 0.991471259848\n",
      "User 106, CV score: 0.995715188742\n",
      "User 107, CV score: 0.997455848591\n",
      "User 108, CV score: 0.997153740816\n",
      "User 109, CV score: 0.997456078168\n",
      "User 110, CV score: 0.997320400733\n",
      "User 111, CV score: 0.995141435022\n",
      "User 112, CV score: 0.997059948233\n",
      "User 113, CV score: 0.996580339671\n",
      "User 114, CV score: 0.996997264548\n",
      "User 115, CV score: 0.995829273077\n",
      "User 116, CV score: 0.996653197325\n",
      "User 117, CV score: 0.994745153999\n",
      "User 118, CV score: 0.99670531233\n",
      "User 119, CV score: 0.996997240822\n",
      "User 120, CV score: 0.995965081767\n",
      "User 121, CV score: 0.99636128288\n",
      "User 122, CV score: 0.996538346817\n",
      "User 123, CV score: 0.997028495494\n",
      "User 124, CV score: 0.995631419512\n",
      "User 125, CV score: 0.995266797553\n",
      "User 126, CV score: 0.997216241429\n",
      "User 127, CV score: 0.998185726478\n",
      "User 128, CV score: 0.996736571842\n",
      "User 129, CV score: 0.995537674382\n",
      "User 130, CV score: 0.990481122214\n",
      "User 131, CV score: 0.992972688836\n",
      "User 132, CV score: 0.997206218549\n",
      "User 133, CV score: 0.996935060325\n",
      "User 134, CV score: 0.996465522095\n",
      "User 135, CV score: 0.997810324199\n",
      "User 136, CV score: 0.997487187539\n",
      "User 137, CV score: 0.996986925918\n",
      "User 138, CV score: 0.993410620768\n",
      "User 139, CV score: 0.994786836417\n",
      "User 140, CV score: 0.996371630241\n",
      "User 141, CV score: 0.996747117271\n",
      "User 142, CV score: 0.997622949724\n",
      "User 143, CV score: 0.995631602585\n",
      "User 144, CV score: 0.995308211674\n",
      "User 145, CV score: 0.997341355022\n",
      "User 146, CV score: 0.995996331599\n",
      "User 147, CV score: 0.993608568289\n",
      "User 148, CV score: 0.99659058387\n",
      "User 149, CV score: 0.995975490627\n",
      "User 150, CV score: 0.996903349442\n"
     ]
    }
   ],
   "source": [
    "cv_scores_by_user = logit_cv_150users.scores_\n",
    "for user_id in logit_cv_150users.scores_:\n",
    "    print('User {}, CV score: {}'.format(user_id, cv_scores_by_user[user_id].mean()))"
   ]
  },
  {
   "cell_type": "markdown",
   "metadata": {},
   "source": [
    "Посчитаем для каждого пользователя разницу между долей правильных ответов на кросс-валидации (только что посчитанную с помощью LogisticRegressionCV) и долей меток в *y_train_150*, отличных от ID этого пользователя (именно такую долю правильных ответов можно получить, если классификатор всегда \"говорит\", что это не пользователь с номером $i$ в задаче классификации $i$-vs-All)."
   ]
  },
  {
   "cell_type": "code",
   "execution_count": 195,
   "metadata": {},
   "outputs": [
    {
     "data": {
      "text/plain": [
       "(151,)"
      ]
     },
     "execution_count": 195,
     "metadata": {},
     "output_type": "execute_result"
    }
   ],
   "source": [
    "class_distr = np.bincount(y_train_150.astype('int'))\n",
    "np.bincount(y_train_150.astype('int')).shape"
   ]
  },
  {
   "cell_type": "code",
   "execution_count": 196,
   "metadata": {},
   "outputs": [
    {
     "data": {
      "text/plain": [
       "309"
      ]
     },
     "execution_count": 196,
     "metadata": {},
     "output_type": "execute_result"
    }
   ],
   "source": [
    "class_distr[128]"
   ]
  },
  {
   "cell_type": "code",
   "execution_count": 197,
   "metadata": {},
   "outputs": [
    {
     "name": "stdout",
     "output_type": "stream",
     "text": [
      "0.984402531461\n",
      "User: 1 difference: 0.0116977851016\n",
      "0.995704440483\n",
      "User: 2 difference: 0.000761208975235\n",
      "0.994401176066\n",
      "User: 3 difference: 0.000813257071489\n",
      "0.984715314921\n",
      "User: 4 difference: 0.00744412151073\n",
      "0.987947410674\n",
      "User: 5 difference: 0.00224128906498\n",
      "0.994453306642\n",
      "User: 6 difference: -4.15373943695e-05\n",
      "0.992545327536\n",
      "User: 7 difference: 0.00110512029063\n",
      "0.98391250404\n",
      "User: 8 difference: 0.00191872485383\n",
      "0.997122392168\n",
      "User: 9 difference: 0.000907130231454\n",
      "0.993827739722\n",
      "User: 10 difference: 0.00123013192177\n",
      "0.994150949298\n",
      "User: 11 difference: 0.000385914183726\n",
      "0.992044874\n",
      "User: 12 difference: 0.00140749989032\n",
      "0.996924295977\n",
      "User: 13 difference: -4.16378397855e-05\n",
      "0.99485992514\n",
      "User: 14 difference: 6.25228467465e-05\n",
      "0.996350859633\n",
      "User: 15 difference: 5.20683667128e-05\n",
      "0.996194467903\n",
      "User: 16 difference: 4.44444858694e-09\n",
      "0.990074338202\n",
      "User: 17 difference: 0.000698505704104\n",
      "0.994150949298\n",
      "User: 18 difference: 0.000312703481327\n",
      "0.994745237872\n",
      "User: 19 difference: -5.21523734323e-05\n",
      "0.990439252239\n",
      "User: 20 difference: 0.00090733618064\n",
      "0.976999989574\n",
      "User: 21 difference: 0.00336768436298\n",
      "0.996017223943\n",
      "User: 22 difference: 0.000709037362213\n",
      "0.987217582601\n",
      "User: 23 difference: 0.00748582358907\n",
      "0.990001355395\n",
      "User: 24 difference: 0.000771560163991\n",
      "0.995944241135\n",
      "User: 25 difference: 0.000646531596237\n",
      "0.993660921877\n",
      "User: 26 difference: 0.000552573945239\n",
      "0.99405711426\n",
      "User: 27 difference: 0.00103196023833\n",
      "0.98750951383\n",
      "User: 28 difference: 0.00407676213583\n",
      "0.979596092292\n",
      "User: 29 difference: 0.00507735639827\n",
      "0.997111966053\n",
      "User: 30 difference: 0.000187673619158\n",
      "0.996778330362\n",
      "User: 31 difference: 0.000416952411916\n",
      "0.996538529709\n",
      "User: 32 difference: 0.000354368734595\n",
      "0.997080687707\n",
      "User: 33 difference: 0.000323219272496\n",
      "0.996257024595\n",
      "User: 34 difference: 0.000271068342593\n",
      "0.996496825248\n",
      "User: 35 difference: 7.30726310859e-05\n",
      "0.996184041788\n",
      "User: 36 difference: 0.00126149095119\n",
      "0.986362641144\n",
      "User: 37 difference: 0.00138657015417\n",
      "0.996465546902\n",
      "User: 38 difference: 0.000156475187693\n",
      "0.996236172365\n",
      "User: 39 difference: 3.13881627223e-05\n",
      "0.996747052016\n",
      "User: 40 difference: -7.29004016214e-05\n",
      "0.988781499901\n",
      "User: 41 difference: 0.00139756293917\n",
      "0.988009967366\n",
      "User: 42 difference: 0.00143878415348\n",
      "0.996267450711\n",
      "User: 43 difference: 8.33526047298e-05\n",
      "0.99577742329\n",
      "User: 44 difference: 2.08154865247e-05\n",
      "0.996100632865\n",
      "User: 45 difference: -3.12929972648e-05\n",
      "0.994661828949\n",
      "User: 46 difference: 0.000406663668473\n",
      "0.995766997175\n",
      "User: 47 difference: 0.000104132188221\n",
      "0.997122392168\n",
      "User: 48 difference: -5.22186216906e-05\n",
      "0.995099725793\n",
      "User: 49 difference: -0.000145919022986\n",
      "0.996298729057\n",
      "User: 50 difference: 6.25911214124e-05\n",
      "0.989917946472\n",
      "User: 51 difference: 0.002168600795\n",
      "0.995558474868\n",
      "User: 52 difference: 0.000500729277812\n",
      "0.995756571059\n",
      "User: 53 difference: 0.000114690032385\n",
      "0.995183134716\n",
      "User: 54 difference: -0.000208604182192\n",
      "0.997080687707\n",
      "User: 55 difference: 0.000187743797173\n",
      "0.989104709476\n",
      "User: 56 difference: 0.000677902365085\n",
      "0.991596551041\n",
      "User: 57 difference: 0.00124094418934\n",
      "0.996204894019\n",
      "User: 58 difference: 0.000500394585212\n",
      "0.985747500339\n",
      "User: 59 difference: 0.00144895271868\n",
      "0.985121933419\n",
      "User: 60 difference: 0.00411836244865\n",
      "0.993733904684\n",
      "User: 61 difference: 0.000521368460953\n",
      "0.988239341904\n",
      "User: 62 difference: 0.00211675630743\n",
      "0.995954667251\n",
      "User: 63 difference: -9.38765173955e-05\n",
      "0.989771980858\n",
      "User: 64 difference: 0.00132354786358\n",
      "0.995475065945\n",
      "User: 65 difference: 0.00148041691354\n",
      "0.994974612409\n",
      "User: 66 difference: 0.000635993275035\n",
      "0.997111966053\n",
      "User: 67 difference: 0.000365076084393\n",
      "0.995339526446\n",
      "User: 68 difference: 0.000563088114585\n",
      "0.996632364747\n",
      "User: 69 difference: 5.21250226125e-05\n",
      "0.996820034823\n",
      "User: 70 difference: -0.00012525387612\n",
      "0.994974612409\n",
      "User: 71 difference: 0.00104266911258\n",
      "0.995923388905\n",
      "User: 72 difference: 0.000938259707096\n",
      "0.996507251363\n",
      "User: 73 difference: 4.27406667836e-08\n",
      "0.991909334501\n",
      "User: 74 difference: 0.000458811360329\n",
      "0.996778330362\n",
      "User: 75 difference: -7.28863031424e-05\n",
      "0.991033540813\n",
      "User: 76 difference: 0.00135539904223\n",
      "0.997216227206\n",
      "User: 77 difference: 0.000281284442899\n",
      "0.996632364747\n",
      "User: 78 difference: -7.29745248964e-05\n",
      "0.995297821985\n",
      "User: 79 difference: 0.00125122476816\n",
      "0.98922982286\n",
      "User: 80 difference: 0.00178288729968\n",
      "0.996632364747\n",
      "User: 81 difference: 0.000271041353237\n",
      "0.994161375413\n",
      "User: 82 difference: 0.000260660812032\n",
      "0.995245691408\n",
      "User: 83 difference: 0.000938353667714\n",
      "0.997153670514\n",
      "User: 84 difference: -0.000104168912822\n",
      "0.99501631687\n",
      "User: 85 difference: 0.000260644971433\n",
      "0.997091113822\n",
      "User: 86 difference: -1.03241423363e-05\n",
      "0.997018131015\n",
      "User: 87 difference: 0.000656844123846\n",
      "0.987989115136\n",
      "User: 88 difference: 0.00127220135926\n",
      "0.996131911211\n",
      "User: 89 difference: 0.000781936681483\n",
      "0.995245691408\n",
      "User: 90 difference: 0.000177117471232\n",
      "0.993984131452\n",
      "User: 91 difference: 0.000177429020542\n",
      "0.992639162574\n",
      "User: 92 difference: 0.00136590226993\n",
      "0.980972339516\n",
      "User: 93 difference: 0.00349267193403\n",
      "0.996309155172\n",
      "User: 94 difference: 0.000479748154253\n",
      "0.995131004139\n",
      "User: 95 difference: 0.000573611081348\n",
      "0.991825925578\n",
      "User: 96 difference: 2.08028877242e-05\n",
      "0.985048950611\n",
      "User: 97 difference: 0.00459787142667\n",
      "0.995704440483\n",
      "User: 98 difference: 0.00264835467133\n",
      "0.990960558006\n",
      "User: 99 difference: -1.03344120997e-05\n",
      "0.98860425594\n",
      "User: 100 difference: 0.00159488122519\n",
      "0.99439074995\n",
      "User: 101 difference: -0.000208428415804\n",
      "0.980482312095\n",
      "User: 102 difference: 0.00618266149295\n",
      "0.966042142358\n",
      "User: 103 difference: 0.0146490634248\n",
      "0.97843879349\n",
      "User: 104 difference: 0.00302360503068\n",
      "0.990595643969\n",
      "User: 105 difference: 0.000875615879445\n",
      "0.995058021332\n",
      "User: 106 difference: 0.000657167409743\n",
      "0.995068447447\n",
      "User: 107 difference: 0.00238740114343\n",
      "0.997038983245\n",
      "User: 108 difference: 0.00011475757102\n",
      "0.996017223943\n",
      "User: 109 difference: 0.00143885422543\n",
      "0.997247505552\n",
      "User: 110 difference: 7.28951814878e-05\n",
      "0.994578420026\n",
      "User: 111 difference: 0.000563014995838\n",
      "0.996674069209\n",
      "User: 112 difference: 0.0003858790248\n",
      "0.995902536674\n",
      "User: 113 difference: 0.000677802997335\n",
      "0.9968721654\n",
      "User: 114 difference: 0.000125099147877\n",
      "0.995245691408\n",
      "User: 115 difference: 0.000583581669452\n",
      "0.996184041788\n",
      "User: 116 difference: 0.000469155537481\n",
      "0.993619217416\n",
      "User: 117 difference: 0.00112593658293\n",
      "0.995860832213\n",
      "User: 118 difference: 0.000844480117392\n",
      "0.996778330362\n",
      "User: 119 difference: 0.000218910459712\n",
      "0.9953082481\n",
      "User: 120 difference: 0.000656833666798\n",
      "0.995766997175\n",
      "User: 121 difference: 0.000594285705227\n",
      "0.994953760178\n",
      "User: 122 difference: 0.00158458663837\n",
      "0.997038983245\n",
      "User: 123 difference: -1.04877514011e-05\n",
      "0.995214413062\n",
      "User: 124 difference: 0.000417006450455\n",
      "0.989500901859\n",
      "User: 125 difference: 0.00576589569447\n",
      "0.996966000438\n",
      "User: 126 difference: 0.000250240990823\n",
      "0.996913869861\n",
      "User: 127 difference: 0.00127185661696\n",
      "0.996778330362\n",
      "User: 128 difference: -4.17585197002e-05\n",
      "0.990136894894\n",
      "User: 129 difference: 0.0054007794874\n",
      "0.988103802404\n",
      "User: 130 difference: 0.00237731980977\n",
      "0.9904809567\n",
      "User: 131 difference: 0.00249173213563\n",
      "0.995787849405\n",
      "User: 132 difference: 0.00141836914396\n",
      "0.995172708601\n",
      "User: 133 difference: 0.00176235172467\n",
      "0.996350859633\n",
      "User: 134 difference: 0.000114662461712\n",
      "0.997330914475\n",
      "User: 135 difference: 0.000479409724418\n",
      "0.996997278784\n",
      "User: 136 difference: 0.000489908755425\n",
      "0.996830460939\n",
      "User: 137 difference: 0.000156464979601\n",
      "0.988729369324\n",
      "User: 138 difference: 0.0046812514436\n",
      "0.991742516656\n",
      "User: 139 difference: 0.00304431976137\n",
      "0.995433361484\n",
      "User: 140 difference: 0.000938268757507\n",
      "0.995923388905\n",
      "User: 141 difference: 0.000823728366557\n",
      "0.996340433518\n",
      "User: 142 difference: 0.00128251620655\n",
      "0.995349952561\n",
      "User: 143 difference: 0.000281650024233\n",
      "0.994828646794\n",
      "User: 144 difference: 0.000479564879625\n",
      "0.997435175628\n",
      "User: 145 difference: -9.3820605602e-05\n",
      "0.987436531023\n",
      "User: 146 difference: 0.00855980057592\n",
      "0.992420214152\n",
      "User: 147 difference: 0.00118835413706\n",
      "0.996309155172\n",
      "User: 148 difference: 0.000281428698305\n",
      "0.99546463983\n",
      "User: 149 difference: 0.000510850796814\n",
      "0.995047595216\n",
      "User: 150 difference: 0.00185575422558\n"
     ]
    }
   ],
   "source": [
    "class_distr = np.bincount(y_train_150.astype('int'))\n",
    "acc_diff_vs_constant = []\n",
    "for user_id in np.unique(y_train_150):\n",
    "    val = (class_distr.sum() - class_distr[user_id])/class_distr.sum()\n",
    "    print(val)\n",
    "    acc_diff_vs_constant.append(cv_scores_by_user[user_id].mean() - val)\n",
    "    print(\"User: {} difference: {}\".format(user_id, cv_scores_by_user[user_id].mean() -\\\n",
    "                                           val))"
   ]
  },
  {
   "cell_type": "code",
   "execution_count": 198,
   "metadata": {},
   "outputs": [
    {
     "data": {
      "text/plain": [
       "0.87333333333333329"
      ]
     },
     "execution_count": 198,
     "metadata": {},
     "output_type": "execute_result"
    }
   ],
   "source": [
    "(np.array(acc_diff_vs_constant) > 0).sum()/len(acc_diff_vs_constant)"
   ]
  },
  {
   "cell_type": "markdown",
   "metadata": {},
   "source": [
    "### Соревнование Kaggle Inclass по идентификации пользователей"
   ]
  },
  {
   "cell_type": "markdown",
   "metadata": {},
   "source": [
    "Считаем данные [соревнования](https://inclass.kaggle.com/c/identify-me-if-you-can-yandex-mipt/data) в DataFrame train_df и test_df (обучающая и тестовая выборки)."
   ]
  },
  {
   "cell_type": "code",
   "execution_count": 213,
   "metadata": {},
   "outputs": [],
   "source": [
    "time_ = ['time1', 'time2', 'time3', 'time4', 'time5', 'time6', 'time7', 'time8', 'time9', 'time10']\n",
    "\n",
    "train_df = pd.read_csv('/Users/yaroina-kente/Identification/kaggle_data/train_sessions.csv', parse_dates = time_, index_col='session_id')\n",
    "test_df = pd.read_csv('/Users/yaroina-kente/Identification/kaggle_data/test_sessions.csv', parse_dates = time_, index_col='session_id')"
   ]
  },
  {
   "cell_type": "code",
   "execution_count": 214,
   "metadata": {},
   "outputs": [],
   "source": [
    "train_test_df = pd.concat([train_df, test_df])"
   ]
  },
  {
   "cell_type": "code",
   "execution_count": 215,
   "metadata": {},
   "outputs": [
    {
     "name": "stdout",
     "output_type": "stream",
     "text": [
      "<class 'pandas.core.frame.DataFrame'>\n",
      "Int64Index: 253561 entries, 1 to 253561\n",
      "Data columns (total 21 columns):\n",
      "site1     253561 non-null int64\n",
      "time1     253561 non-null datetime64[ns]\n",
      "site2     250098 non-null float64\n",
      "time2     250098 non-null datetime64[ns]\n",
      "site3     246919 non-null float64\n",
      "time3     246919 non-null datetime64[ns]\n",
      "site4     244321 non-null float64\n",
      "time4     244321 non-null datetime64[ns]\n",
      "site5     241829 non-null float64\n",
      "time5     241829 non-null datetime64[ns]\n",
      "site6     239495 non-null float64\n",
      "time6     239495 non-null datetime64[ns]\n",
      "site7     237297 non-null float64\n",
      "time7     237297 non-null datetime64[ns]\n",
      "site8     235224 non-null float64\n",
      "time8     235224 non-null datetime64[ns]\n",
      "site9     233084 non-null float64\n",
      "time9     233084 non-null datetime64[ns]\n",
      "site10    231052 non-null float64\n",
      "time10    231052 non-null datetime64[ns]\n",
      "target    253561 non-null int64\n",
      "dtypes: datetime64[ns](10), float64(9), int64(2)\n",
      "memory usage: 42.6 MB\n"
     ]
    }
   ],
   "source": [
    "train_df.info()"
   ]
  },
  {
   "cell_type": "markdown",
   "metadata": {},
   "source": [
    "В обучающей выборке – 2297 сессий одного пользователя (Alice) и 251264 сессий – других пользователей, не Элис. Дисбаланс классов очень сильный, и смотреть на долю верных ответов (accuracy) непоказательно. Индексы нумеровались с 1, так что заменим пропуски на нули."
   ]
  },
  {
   "cell_type": "code",
   "execution_count": 216,
   "metadata": {},
   "outputs": [],
   "source": [
    "train_test_df_sites = train_test_df[['site%d' % i for i in range(1, 11)]].fillna(0).astype('int')"
   ]
  },
  {
   "cell_type": "markdown",
   "metadata": {},
   "source": [
    "Добавим новые признаки:\n",
    "* день недели начала сессии\n",
    "* час начала сессии\n",
    "* число уникальных сайтов в сессии\n",
    "* продолжительность нахождения на сайте для каждого этапа сессии."
   ]
  },
  {
   "cell_type": "code",
   "execution_count": 217,
   "metadata": {},
   "outputs": [],
   "source": [
    "def New_features(data):\n",
    "    \n",
    "    time_cols = ['time%d' % i for i in range(1, 11)]\n",
    "    site_cols = ['site%d' % i for i in range(1, 11)]\n",
    "    time_diff = []\n",
    "    unique_sites = []\n",
    "    start_hour = []\n",
    "    day_of_week = []\n",
    "    \n",
    "    sites = data[site_cols].values.tolist()\n",
    "    \n",
    "    for i, (l, time) in tqdm_notebook(enumerate(data[time_cols].iterrows())):\n",
    "        time_diff.append([0] * (9))\n",
    "        \n",
    "        for n in range(9):\n",
    "            if not pd.isnull(time[n]) and not pd.isnull(time[n+1]):\n",
    "                time_diff[i][n] = int((time[n+1]-time[n])/np.timedelta64(1, 's'))\n",
    "        \n",
    "        start_hour.append(time[0].hour)\n",
    "        day_of_week.append(time[0].dayofweek)\n",
    "        \n",
    "        unique = set(sites[i])\n",
    "        try:\n",
    "            unique_sites.remove(0) # remove site '0' from session\n",
    "        except: \n",
    "            pass\n",
    "        \n",
    "        unique_sites.append(len(unique))\n",
    "    \n",
    "    \n",
    "    time_diff = np.array(time_diff, dtype='int')                         # продолжительность нахождения на сайте\n",
    "    unique_sites = np.array(unique_sites).reshape(time_diff.shape[0],1)  # число уникальных сайтов в сессии\n",
    "    start_hour = np.array(start_hour).reshape(time_diff.shape[0],1)      # час начала сессии\n",
    "    day_of_week = np.array(day_of_week).reshape(time_diff.shape[0],1)    # день недели начала сессии\n",
    "    \n",
    "    data_ = np.hstack((time_diff, unique_sites, start_hour, day_of_week))\n",
    "    \n",
    "    columns = ['time_diff' + str(j) for j in range(1,10)] + ['#unique_sites', 'start_hour', 'day_of_week']\n",
    "    \n",
    "    data_frame = pd.DataFrame(data_, columns=columns, index=data.index)\n",
    "    return data_frame"
   ]
  },
  {
   "cell_type": "code",
   "execution_count": 218,
   "metadata": {},
   "outputs": [
    {
     "data": {
      "application/vnd.jupyter.widget-view+json": {
       "model_id": "e61a4eabf98c4fe79b3cf71f37d301c0",
       "version_major": 2,
       "version_minor": 0
      },
      "text/html": [
       "<p>Failed to display Jupyter Widget of type <code>HBox</code>.</p>\n",
       "<p>\n",
       "  If you're reading this message in the Jupyter Notebook or JupyterLab Notebook, it may mean\n",
       "  that the widgets JavaScript is still loading. If this message persists, it\n",
       "  likely means that the widgets JavaScript library is either not installed or\n",
       "  not enabled. See the <a href=\"https://ipywidgets.readthedocs.io/en/stable/user_install.html\">Jupyter\n",
       "  Widgets Documentation</a> for setup instructions.\n",
       "</p>\n",
       "<p>\n",
       "  If you're reading this message in another frontend (for example, a static\n",
       "  rendering on GitHub or <a href=\"https://nbviewer.jupyter.org/\">NBViewer</a>),\n",
       "  it may mean that your frontend doesn't currently support widgets.\n",
       "</p>\n"
      ],
      "text/plain": [
       "HBox(children=(IntProgress(value=1, bar_style=u'info', max=1), HTML(value=u'')))"
      ]
     },
     "metadata": {},
     "output_type": "display_data"
    },
    {
     "name": "stdout",
     "output_type": "stream",
     "text": [
      "\n",
      "CPU times: user 29min 33s, sys: 1min 48s, total: 31min 21s\n",
      "Wall time: 30min 49s\n"
     ]
    }
   ],
   "source": [
    "%%time\n",
    "data_new_features = New_features(train_test_df)"
   ]
  },
  {
   "cell_type": "code",
   "execution_count": 219,
   "metadata": {},
   "outputs": [],
   "source": [
    "with open('/Users/yaroina-kente/Identification/kaggle_data/New_features.pkl', 'wb') as pkl:\n",
    "    pickle.dump(data_new_features, pkl, protocol=2)"
   ]
  },
  {
   "cell_type": "markdown",
   "metadata": {},
   "source": [
    "Сделаем разреженные матрицы *X_train_sparse* и *X_test_sparse* аналогично тому, как мы это делали ранее. Используем объединенную матрицу train_test_df_sites – потом разделим обратно на обучающую и тестовую части."
   ]
  },
  {
   "cell_type": "code",
   "execution_count": 233,
   "metadata": {},
   "outputs": [],
   "source": [
    "def CSR_Matrix(sessions):\n",
    "    \n",
    "    indices = list(np.array(sessions).reshape((1,sessions.size))[0])\n",
    "    data = list(np.ones(sessions.size, dtype=int))\n",
    "    indptr = [sessions.shape[1]*k for k in range(len(sessions)+1)]\n",
    "\n",
    "    return csr_matrix((data, indices, indptr), dtype=int)[:,1:]"
   ]
  },
  {
   "cell_type": "code",
   "execution_count": 234,
   "metadata": {},
   "outputs": [
    {
     "name": "stdout",
     "output_type": "stream",
     "text": [
      "Размер разреженной матрицы: (336358, 48371)\n"
     ]
    }
   ],
   "source": [
    "train_test_sparse = CSR_Matrix(train_test_df_sites.values)\n",
    "print('Размер разреженной матрицы: {}'.format(train_test_sparse.get_shape()))"
   ]
  },
  {
   "cell_type": "markdown",
   "metadata": {},
   "source": [
    "Закодируем наши признаки прямым кодирование (одно горячее состояние), нормализуем их и объединим с исходными разреженными матрицами."
   ]
  },
  {
   "cell_type": "code",
   "execution_count": 236,
   "metadata": {},
   "outputs": [],
   "source": [
    "data_variables = pd.get_dummies(data_new_features, columns=['#unique_sites', 'start_hour', 'day_of_week'],\n",
    "                                        sparse=True, drop_first=True)"
   ]
  },
  {
   "cell_type": "code",
   "execution_count": 238,
   "metadata": {},
   "outputs": [
    {
     "data": {
      "text/plain": [
       "(336358, 40)"
      ]
     },
     "execution_count": 238,
     "metadata": {},
     "output_type": "execute_result"
    }
   ],
   "source": [
    "matrix_feature = data_variables.values\n",
    "matrix_feature.shape"
   ]
  },
  {
   "cell_type": "code",
   "execution_count": 240,
   "metadata": {},
   "outputs": [],
   "source": [
    "scaler = StandardScaler()\n",
    "features_scal = scaler.fit_transform(matrix_feature)"
   ]
  },
  {
   "cell_type": "code",
   "execution_count": 244,
   "metadata": {},
   "outputs": [],
   "source": [
    "_sparse_ = sparse.hstack([train_test_sparse, features_scal]).tocsr()"
   ]
  },
  {
   "cell_type": "code",
   "execution_count": 245,
   "metadata": {},
   "outputs": [],
   "source": [
    "X_train_sparse = _sparse_[:train_df.shape[0]]\n",
    "X_test_sparse = _sparse_[train_df.shape[0]:]\n",
    "y = train_df['target']"
   ]
  },
  {
   "cell_type": "markdown",
   "metadata": {},
   "source": [
    "Разобьем обучающую выборку на 2 части в пропорции 7/3, причем не перемешивая. Исходные данные упорядочены по времени, тестовая выборка по времени четко отделена от обучающей, это же соблюдем и здесь."
   ]
  },
  {
   "cell_type": "code",
   "execution_count": 246,
   "metadata": {},
   "outputs": [],
   "source": [
    "train_share = int(.7 * X_train_sparse.shape[0])\n",
    "X_train, y_train = X_train_sparse[:train_share, :], y[:train_share]\n",
    "X_valid, y_valid  = X_train_sparse[train_share:, :], y[train_share:]"
   ]
  },
  {
   "cell_type": "markdown",
   "metadata": {},
   "source": [
    "Создадим объект sklearn.linear_model.SGDClassifier с логистической функцией потерь и параметром random_state=17, n_jobs=-1. Обучим модель на выборке (X_train, y_train)."
   ]
  },
  {
   "cell_type": "code",
   "execution_count": 247,
   "metadata": {},
   "outputs": [
    {
     "data": {
      "text/plain": [
       "SGDClassifier(alpha=0.0001, average=False, class_weight=None, epsilon=0.1,\n",
       "       eta0=0.0, fit_intercept=True, l1_ratio=0.15,\n",
       "       learning_rate='optimal', loss='log', max_iter=None, n_iter=None,\n",
       "       n_jobs=-1, penalty='l2', power_t=0.5, random_state=17, shuffle=True,\n",
       "       tol=None, verbose=0, warm_start=False)"
      ]
     },
     "execution_count": 247,
     "metadata": {},
     "output_type": "execute_result"
    }
   ],
   "source": [
    "sgd_logit = SGDClassifier(loss='log', random_state=17, n_jobs=-1)\n",
    "sgd_logit.fit(X_train, y_train)"
   ]
  },
  {
   "cell_type": "code",
   "execution_count": 248,
   "metadata": {},
   "outputs": [],
   "source": [
    "logit_valid_pred_proba = sgd_logit.predict_proba(X_valid)"
   ]
  },
  {
   "cell_type": "code",
   "execution_count": 249,
   "metadata": {},
   "outputs": [
    {
     "name": "stdout",
     "output_type": "stream",
     "text": [
      "ROC AUC score: 0.975\n"
     ]
    }
   ],
   "source": [
    "roc_auc_sgd_logit = roc_auc_score(y_valid, logit_valid_pred_proba[:, 1])\n",
    "print('ROC AUC score: {:.3f}'.format(roc_auc_sgd_logit))"
   ]
  },
  {
   "cell_type": "markdown",
   "metadata": {},
   "source": [
    "Сделаем прогноз в виде предсказанных вероятностей отнесения к классу 1 для тестовой выборки с помощью той же *sgd_logit*, обученной уже на всей обучающей выборке (а не на 70%)."
   ]
  },
  {
   "cell_type": "code",
   "execution_count": 250,
   "metadata": {},
   "outputs": [],
   "source": [
    "time\n",
    "sgd_logit.fit(X_train_sparse, y)\n",
    "logit_test_pred_proba = sgd_logit.predict_proba(X_test_sparse)"
   ]
  },
  {
   "cell_type": "markdown",
   "metadata": {},
   "source": [
    "Полученный результат соответствует бейзлайну \"SGDCLassifer\" на лидерборде, 0.94753."
   ]
  },
  {
   "cell_type": "code",
   "execution_count": 251,
   "metadata": {},
   "outputs": [],
   "source": [
    "def write_to_submission_file(predicted_labels, out_file,\n",
    "                             target='target', index_label=\"session_id\"):\n",
    "    # turn predictions into data frame and save as csv file\n",
    "    predicted_df = pd.DataFrame(predicted_labels,\n",
    "                                index = np.arange(1, predicted_labels.shape[0] + 1),\n",
    "                                columns=[target])\n",
    "    predicted_df.to_csv(out_file, index_label=index_label)"
   ]
  },
  {
   "cell_type": "code",
   "execution_count": 253,
   "metadata": {},
   "outputs": [],
   "source": [
    "write_to_submission_file(logit_test_pred_proba[:, 1], '/Users/yaroina-kente/Identification/kaggle_data/res_1_sgd_logit.csv')"
   ]
  },
  {
   "cell_type": "markdown",
   "metadata": {},
   "source": [
    "Посмотрим на параметры классификатора и подберём оптимальные."
   ]
  },
  {
   "cell_type": "code",
   "execution_count": 254,
   "metadata": {},
   "outputs": [
    {
     "name": "stdout",
     "output_type": "stream",
     "text": [
      "CPU times: user 5min 7s, sys: 56.8 s, total: 6min 4s\n",
      "Wall time: 5min 53s\n"
     ]
    }
   ],
   "source": [
    "%%time\n",
    "sgd_logit = SGDClassifier(random_state=0, n_jobs=-1, loss='log')\n",
    "\n",
    "params = {'alpha': np.linspace(1e-08,1e-03, 30),\n",
    "          'penalty': ['l1','l2']}\n",
    "grid_2 = GridSearchCV(sgd_logit, params, cv=5, scoring='roc_auc')\n",
    "grid_2.fit(X_train_sparse, y)"
   ]
  },
  {
   "cell_type": "code",
   "execution_count": 255,
   "metadata": {},
   "outputs": [
    {
     "data": {
      "image/png": "[encoded data removed]",
      "text/plain": [
       "<Figure size 1080x360 with 1 Axes>"
      ]
     },
     "metadata": {},
     "output_type": "display_data"
    }
   ],
   "source": [
    "score_l1 = list(pd.Series(grid_2.cv_results_).mean_test_score[::2])\n",
    "score_l2 = list(pd.Series(grid_2.cv_results_).mean_test_score[1::2])\n",
    "param = list(pd.Series(grid_2.cv_results_).param_alpha[::2])\n",
    "\n",
    "plt.figure(figsize=(15,5))\n",
    "plt.title('Soft')\n",
    "plt.plot(range(len(score_l1)), score_l1, label='l1')\n",
    "plt.plot(range(len(score_l2)), score_l2, label='l2')\n",
    "plt.xticks(range(len(score_l1)), param, rotation='vertical')\n",
    "plt.xlabel('alpha')\n",
    "plt.ylabel('score')\n",
    "plt.legend()\n",
    "plt.show()"
   ]
  },
  {
   "cell_type": "code",
   "execution_count": 257,
   "metadata": {},
   "outputs": [
    {
     "data": {
      "text/plain": [
       "0.97823396691328068"
      ]
     },
     "execution_count": 257,
     "metadata": {},
     "output_type": "execute_result"
    }
   ],
   "source": [
    "grid_2.best_score_"
   ]
  },
  {
   "cell_type": "markdown",
   "metadata": {},
   "source": [
    "Полученный результат несколько лучше - 0.95383."
   ]
  },
  {
   "cell_type": "code",
   "execution_count": 258,
   "metadata": {},
   "outputs": [],
   "source": [
    "logit_test_pred_proba = grid_2.best_estimator_.predict_proba(X_test_sparse)[:,1]"
   ]
  },
  {
   "cell_type": "code",
   "execution_count": 260,
   "metadata": {},
   "outputs": [],
   "source": [
    "write_to_submission_file(logit_test_pred_proba, '/Users/yaroina-kente/Identification/kaggle_data/res_3_sgd_logit.csv')"
   ]
  },
  {
   "cell_type": "markdown",
   "metadata": {},
   "source": [
    "### Vowpal Wabbit. Tutorial"
   ]
  },
  {
   "cell_type": "code",
   "execution_count": 261,
   "metadata": {},
   "outputs": [
    {
     "name": "stdout",
     "output_type": "stream",
     "text": [
      "Num weight bits = 18\r\n",
      "learning rate = 0.5\r\n",
      "initial_t = 0\r\n",
      "power_t = 0.5\r\n",
      "using no cache\r\n",
      "Reading datafile = \r\n",
      "num sources = 1\r\n",
      "\r\n",
      "VW options:\r\n",
      "  --ring_size arg                       size of example ring\r\n",
      "  --onethread                           Disable parse thread\r\n",
      "\r\n",
      "Update options:\r\n",
      "  -l [ --learning_rate ] arg            Set learning rate\r\n",
      "  --power_t arg                         t power value\r\n",
      "  --decay_learning_rate arg             Set Decay factor for learning_rate \r\n",
      "                                        between passes\r\n",
      "  --initial_t arg                       initial t value\r\n",
      "  --feature_mask arg                    Use existing regressor to determine \r\n",
      "                                        which parameters may be updated.  If no\r\n",
      "                                        initial_regressor given, also used for \r\n",
      "                                        initial weights.\r\n",
      "\r\n",
      "Weight options:\r\n",
      "  -i [ --initial_regressor ] arg        Initial regressor(s)\r\n",
      "  --initial_weight arg                  Set all weights to an initial value of \r\n",
      "                                        arg.\r\n",
      "  --random_weights arg                  make initial weights random\r\n",
      "  --normal_weights arg                  make initial weights normal\r\n",
      "  --truncated_normal_weights arg        make initial weights truncated normal\r\n",
      "  --sparse_weights                      Use a sparse datastructure for weights\r\n",
      "  --input_feature_regularizer arg       Per feature regularization input file\r\n",
      "\r\n",
      "Parallelization options:\r\n",
      "  --span_server arg                     Location of server for setting up \r\n",
      "                                        spanning tree\r\n",
      "  --threads                             Enable multi-threading\r\n",
      "  --unique_id arg (=0)                  unique id used for cluster parallel \r\n",
      "                                        jobs\r\n",
      "  --total arg (=1)                      total number of nodes used in cluster \r\n",
      "                                        parallel job\r\n",
      "  --node arg (=0)                       node number in cluster parallel job\r\n",
      "\r\n",
      "Diagnostic options:\r\n",
      "  --version                             Version information\r\n",
      "  -a [ --audit ]                        print weights of features\r\n",
      "  -P [ --progress ] arg                 Progress update frequency. int: \r\n",
      "                                        additive, float: multiplicative\r\n",
      "  --quiet                               Don't output disgnostics and progress \r\n",
      "                                        updates\r\n",
      "  -h [ --help ]                         Look here: http://hunch.net/~vw/ and \r\n",
      "                                        click on Tutorial.\r\n",
      "\r\n",
      "Random Seed option:\r\n",
      "  --random_seed arg                     seed random number generator\r\n",
      "\r\n",
      "Feature options:\r\n",
      "  --hash arg                            how to hash the features. Available \r\n",
      "                                        options: strings, all\r\n",
      "  --hash_seed arg (=0)                  seed for hash function\r\n",
      "  --ignore arg                          ignore namespaces beginning with \r\n",
      "                                        character <arg>\r\n",
      "  --ignore_linear arg                   ignore namespaces beginning with \r\n",
      "                                        character <arg> for linear terms only\r\n",
      "  --keep arg                            keep namespaces beginning with \r\n",
      "                                        character <arg>\r\n",
      "  --redefine arg                        redefine namespaces beginning with \r\n",
      "                                        characters of string S as namespace N. \r\n",
      "                                        <arg> shall be in form 'N:=S' where := \r\n",
      "                                        is operator. Empty N or S are treated \r\n",
      "                                        as default namespace. Use ':' as a \r\n",
      "                                        wildcard in S.\r\n",
      "  -b [ --bit_precision ] arg            number of bits in the feature table\r\n",
      "  --noconstant                          Don't add a constant feature\r\n",
      "  -C [ --constant ] arg                 Set initial value of constant\r\n",
      "  --ngram arg                           Generate N grams. To generate N grams \r\n",
      "                                        for a single namespace 'foo', arg \r\n",
      "                                        should be fN.\r\n",
      "  --skips arg                           Generate skips in N grams. This in \r\n",
      "                                        conjunction with the ngram tag can be \r\n",
      "                                        used to generate generalized \r\n",
      "                                        n-skip-k-gram. To generate n-skips for \r\n",
      "                                        a single namespace 'foo', arg should be\r\n",
      "                                        fN.\r\n",
      "  --feature_limit arg                   limit to N features. To apply to a \r\n",
      "                                        single namespace 'foo', arg should be \r\n",
      "                                        fN\r\n",
      "  --affix arg                           generate prefixes/suffixes of features;\r\n",
      "                                        argument '+2a,-3b,+1' means generate \r\n",
      "                                        2-char prefixes for namespace a, 3-char\r\n",
      "                                        suffixes for b and 1 char prefixes for \r\n",
      "                                        default namespace\r\n",
      "  --spelling arg                        compute spelling features for a give \r\n",
      "                                        namespace (use '_' for default \r\n",
      "                                        namespace)\r\n",
      "  --dictionary arg                      read a dictionary for additional \r\n",
      "                                        features (arg either 'x:file' or just \r\n",
      "                                        'file')\r\n",
      "  --dictionary_path arg                 look in this directory for \r\n",
      "                                        dictionaries; defaults to current \r\n",
      "                                        directory or env{PATH}\r\n",
      "  --interactions arg                    Create feature interactions of any \r\n",
      "                                        level between namespaces.\r\n",
      "  --permutations                        Use permutations instead of \r\n",
      "                                        combinations for feature interactions \r\n",
      "                                        of same namespace.\r\n",
      "  --leave_duplicate_interactions        Don't remove interactions with \r\n",
      "                                        duplicate combinations of namespaces. \r\n",
      "                                        For ex. this is a duplicate: '-q ab -q \r\n",
      "                                        ba' and a lot more in '-q ::'.\r\n",
      "  -q [ --quadratic ] arg                Create and use quadratic features\r\n",
      "  --q: arg                              : corresponds to a wildcard for all \r\n",
      "                                        printable characters\r\n",
      "  --cubic arg                           Create and use cubic features\r\n",
      "\r\n",
      "Example options:\r\n",
      "  -t [ --testonly ]                     Ignore label information and just test\r\n",
      "  --holdout_off                         no holdout data in multiple passes\r\n",
      "  --holdout_period arg (=10)            holdout period for test only\r\n",
      "  --holdout_after arg                   holdout after n training examples, \r\n",
      "                                        default off (disables holdout_period)\r\n",
      "  --early_terminate arg (=3)            Specify the number of passes tolerated \r\n",
      "                                        when holdout loss doesn't decrease \r\n",
      "                                        before early termination\r\n",
      "  --passes arg                          Number of Training Passes\r\n",
      "  --initial_pass_length arg             initial number of examples per pass\r\n",
      "  --examples arg                        number of examples to parse\r\n",
      "  --min_prediction arg                  Smallest prediction to output\r\n",
      "  --max_prediction arg                  Largest prediction to output\r\n",
      "  --sort_features                       turn this on to disregard order in \r\n",
      "                                        which features have been defined. This \r\n",
      "                                        will lead to smaller cache sizes\r\n",
      "  --loss_function arg (=squared)        Specify the loss function to be used, \r\n",
      "                                        uses squared by default. Currently \r\n",
      "                                        available ones are squared, classic, \r\n",
      "                                        hinge, logistic, quantile and poisson.\r\n",
      "  --quantile_tau arg (=0.5)             Parameter \\tau associated with Quantile\r\n",
      "                                        loss. Defaults to 0.5\r\n",
      "  --l1 arg                              l_1 lambda\r\n",
      "  --l2 arg                              l_2 lambda\r\n",
      "  --no_bias_regularization arg          no bias in regularization\r\n",
      "  --named_labels arg                    use names for labels (multiclass, etc.)\r\n",
      "                                        rather than integers, argument \r\n",
      "                                        specified all possible labels, \r\n",
      "                                        comma-sep, eg \"--named_labels \r\n",
      "                                        Noun,Verb,Adj,Punc\"\r\n",
      "\r\n",
      "Output model:\r\n",
      "  -f [ --final_regressor ] arg          Final regressor\r\n",
      "  --readable_model arg                  Output human-readable final regressor \r\n",
      "                                        with numeric features\r\n",
      "  --invert_hash arg                     Output human-readable final regressor \r\n",
      "                                        with feature names.  Computationally \r\n",
      "                                        expensive.\r\n",
      "  --save_resume                         save extra state so learning can be \r\n",
      "                                        resumed later with new data\r\n",
      "  --preserve_performance_counters       reset performance counters when \r\n",
      "                                        warmstarting\r\n",
      "  --save_per_pass                       Save the model after every pass over \r\n",
      "                                        data\r\n",
      "  --output_feature_regularizer_binary arg\r\n",
      "                                        Per feature regularization output file\r\n",
      "  --output_feature_regularizer_text arg Per feature regularization output file,\r\n",
      "                                        in text\r\n",
      "  --id arg                              User supplied ID embedded into the \r\n",
      "                                        final regressor\r\n",
      "\r\n",
      "Output options:\r\n",
      "  -p [ --predictions ] arg              File to output predictions to\r\n",
      "  -r [ --raw_predictions ] arg          File to output unnormalized predictions\r\n",
      "                                        to\r\n",
      "\r\n",
      "Audit Regressor:\r\n",
      "  --audit_regressor arg                 stores feature names and their \r\n",
      "                                        regressor values. Same dataset must be \r\n",
      "                                        used for both regressor training and \r\n",
      "                                        this mode.\r\n",
      "\r\n",
      "\r\n",
      "Search options:\r\n",
      "  --search arg                          Use learning to search, \r\n",
      "                                        argument=maximum action id or 0 for LDF\r\n",
      "  --search_task arg                     the search task (use \"--search_task \r\n",
      "                                        list\" to get a list of available tasks)\r\n",
      "\r\n",
      "  --search_metatask arg                 the search metatask (use \r\n",
      "                                        \"--search_metatask list\" to get a list \r\n",
      "                                        of available metatasks)\r\n",
      "  --search_interpolation arg            at what level should interpolation \r\n",
      "                                        happen? [*data|policy]\r\n",
      "  --search_rollout arg                  how should rollouts be executed?       \r\n",
      "                                            [policy|oracle|*mix_per_state|mix_p\r\n",
      "                                        er_roll|none]\r\n",
      "  --search_rollin arg                   how should past trajectories be \r\n",
      "                                        generated? [policy|oracle|*mix_per_stat\r\n",
      "                                        e|mix_per_roll]\r\n",
      "  --search_passes_per_policy arg (=1)   number of passes per policy (only valid\r\n",
      "                                        for search_interpolation=policy)\r\n",
      "  --search_beta arg (=0.5)              interpolation rate for policies (only \r\n",
      "                                        valid for search_interpolation=policy)\r\n",
      "  --search_alpha arg (=1.00000001e-10)  annealed beta = 1-(1-alpha)^t (only \r\n",
      "                                        valid for search_interpolation=data)\r\n",
      "  --search_total_nb_policies arg        if we are going to train the policies \r\n",
      "                                        through multiple separate calls to vw, \r\n",
      "                                        we need to specify this parameter and \r\n",
      "                                        tell vw how many policies are \r\n",
      "                                        eventually going to be trained\r\n",
      "  --search_trained_nb_policies arg      the number of trained policies in a \r\n",
      "                                        file\r\n",
      "  --search_allowed_transitions arg      read file of allowed transitions [def: \r\n",
      "                                        all transitions are allowed]\r\n",
      "  --search_subsample_time arg           instead of training at all timesteps, \r\n",
      "                                        use a subset. if value in (0,1), train \r\n",
      "                                        on a random v%. if v>=1, train on \r\n",
      "                                        precisely v steps per example, if \r\n",
      "                                        v<=-1, use active learning\r\n",
      "  --search_neighbor_features arg        copy features from neighboring lines. \r\n",
      "                                        argument looks like: '-1:a,+2' meaning \r\n",
      "                                        copy previous line namespace a and next\r\n",
      "                                        next line from namespace _unnamed_, \r\n",
      "                                        where ',' separates them\r\n",
      "  --search_rollout_num_steps arg        how many calls of \"loss\" before we stop\r\n",
      "                                        really predicting on rollouts and \r\n",
      "                                        switch to oracle (default means \r\n",
      "                                        \"infinite\")\r\n",
      "  --search_history_length arg (=1)      some tasks allow you to specify how \r\n",
      "                                        much history their depend on; specify \r\n",
      "                                        that here\r\n",
      "  --search_no_caching                   turn off the built-in caching ability \r\n",
      "                                        (makes things slower, but technically \r\n",
      "                                        more safe)\r\n",
      "  --search_xv                           train two separate policies, \r\n",
      "                                        alternating prediction/learning\r\n",
      "  --search_perturb_oracle arg (=0)      perturb the oracle on rollin with this \r\n",
      "                                        probability\r\n",
      "  --search_linear_ordering              insist on generating examples in linear\r\n",
      "                                        order (def: hoopla permutation)\r\n",
      "  --search_active_verify arg            verify that active learning is doing \r\n",
      "                                        the right thing (arg = multiplier, \r\n",
      "                                        should be = cost_range * range_c)\r\n",
      "  --search_save_every_k_runs arg        save model every k runs\r\n",
      "\r\n",
      "Experience Replay:\r\n",
      "  --replay_c arg                        use experience replay at a specified \r\n",
      "                                        level [b=classification/regression, \r\n",
      "                                        m=multiclass, c=cost sensitive] with \r\n",
      "                                        specified buffer size\r\n",
      "\r\n",
      "  --replay_c_count arg (=1)             how many times (in expectation) should \r\n",
      "                                        each example be played (default: 1 = \r\n",
      "                                        permuting)\r\n",
      "\r\n",
      "Explore evaluation:\r\n",
      "  --explore_eval                        Evaluate explore_eval adf policies\r\n",
      "\r\n",
      "  --multiplier arg                      Multiplier used to make all rejection \r\n",
      "                                        sample probabilities <= 1\r\n",
      "\r\n",
      "Make Multiclass into Contextual Bandit:\r\n",
      "  --cbify arg                           Convert multiclass on <k> classes into \r\n",
      "                                        a contextual bandit problem\r\n",
      "\r\n",
      "  --cbify_cs                            consume cost-sensitive classification \r\n",
      "                                        examples instead of multiclass\r\n",
      "  --loss0 arg (=0)                      loss for correct label\r\n",
      "  --loss1 arg (=1)                      loss for incorrect label\r\n",
      "\r\n",
      "Contextual Bandit Exploration with Action Dependent Features:\r\n",
      "  --cb_explore_adf                      Online explore-exploit for a contextual\r\n",
      "                                        bandit problem with multiline action \r\n",
      "                                        dependent features\r\n",
      "\r\n",
      "  --first arg                           tau-first exploration\r\n",
      "  --epsilon arg                         epsilon-greedy exploration\r\n",
      "  --bag arg                             bagging-based exploration\r\n",
      "  --cover arg                           Online cover based exploration\r\n",
      "  --psi arg (=1)                        disagreement parameter for cover\r\n",
      "  --nounif                              do not explore uniformly on \r\n",
      "                                        zero-probability actions in cover\r\n",
      "  --softmax                             softmax exploration\r\n",
      "  --regcb                               RegCB-elim exploration\r\n",
      "  --regcbopt                            RegCB optimistic exploration\r\n",
      "  --mellowness arg (=0.100000001)       RegCB mellowness parameter c_0. Default\r\n",
      "                                        0.1\r\n",
      "  --greedify                            always update first policy once in \r\n",
      "                                        bagging\r\n",
      "  --cb_min_cost arg (=0)                lower bound on cost\r\n",
      "  --cb_max_cost arg (=1)                upper bound on cost\r\n",
      "  --first_only                          Only explore the first action in a \r\n",
      "                                        tie-breaking event\r\n",
      "  --lambda arg (=-1)                    parameter for softmax\r\n",
      "\r\n",
      "Contextual Bandit Exploration:\r\n",
      "  --cb_explore arg                      Online explore-exploit for a <k> action\r\n",
      "                                        contextual bandit problem\r\n",
      "\r\n",
      "  --first arg                           tau-first exploration\r\n",
      "  --epsilon arg (=0.0500000007)         epsilon-greedy exploration\r\n",
      "  --bag arg                             bagging-based exploration\r\n",
      "  --cover arg                           Online cover based exploration\r\n",
      "  --psi arg (=1)                        disagreement parameter for cover\r\n",
      "\r\n",
      "Multiworld Testing Options:\r\n",
      "  --multiworld_test arg                 Evaluate features as a policies\r\n",
      "\r\n",
      "  --learn arg                           Do Contextual Bandit learning on <n> \r\n",
      "                                        classes.\r\n",
      "  --exclude_eval                        Discard mwt policy features before \r\n",
      "                                        learning\r\n",
      "\r\n",
      "Contextual Bandit with Action Dependent Features:\r\n",
      "  --cb_adf                              Do Contextual Bandit learning with \r\n",
      "                                        multiline action dependent features.\r\n",
      "\r\n",
      "  --rank_all                            Return actions sorted by score order\r\n",
      "  --no_predict                          Do not do a prediction when training\r\n",
      "  --cb_type arg (=ips)                  contextual bandit method to use in \r\n",
      "                                        {ips,dm,dr, mtr}\r\n",
      "\r\n",
      "Contextual Bandit Options:\r\n",
      "  --cb arg                              Use contextual bandit learning with <k>\r\n",
      "                                        costs\r\n",
      "\r\n",
      "  --cb_type arg (=dr)                   contextual bandit method to use in \r\n",
      "                                        {ips,dm,dr}\r\n",
      "  --eval                                Evaluate a policy rather than \r\n",
      "                                        optimizing.\r\n",
      "\r\n",
      "Cost Sensitive One Against All with Label Dependent Features:\r\n",
      "  --csoaa_ldf arg                       Use one-against-all multiclass learning\r\n",
      "                                        with label dependent features.\r\n",
      "\r\n",
      "  --ldf_override arg                    Override singleline or multiline from \r\n",
      "                                        csoaa_ldf or wap_ldf, eg if stored in \r\n",
      "                                        file\r\n",
      "  --csoaa_rank                          Return actions sorted by score order\r\n",
      "  --probabilities                       predict probabilites of all classes\r\n",
      "\r\n",
      "  --wap_ldf arg                         Use weighted all-pairs multiclass \r\n",
      "                                        learning with label dependent features.\r\n",
      "                                          Specify singleline or multiline.\r\n",
      "\r\n",
      "\r\n",
      "Interact via elementwise multiplication:\r\n",
      "  --interact arg                        Put weights on feature products from \r\n",
      "                                        namespaces <n1> and <n2>\r\n",
      "\r\n",
      "\r\n",
      "Cost Sensitive One Against All:\r\n",
      "  --csoaa arg                           One-against-all multiclass with <k> \r\n",
      "                                        costs\r\n",
      "\r\n",
      "\r\n",
      "Cost-sensitive Active Learning:\r\n",
      "  --cs_active arg                       Cost-sensitive active learning with <k>\r\n",
      "                                        costs\r\n",
      "\r\n",
      "  --simulation                          cost-sensitive active learning \r\n",
      "                                        simulation mode\r\n",
      "  --baseline                            cost-sensitive active learning baseline\r\n",
      "  --domination                          cost-sensitive active learning use \r\n",
      "                                        domination. Default 1\r\n",
      "  --mellowness arg (=0.100000001)       mellowness parameter c_0. Default 0.1.\r\n",
      "  --range_c arg (=0.5)                  parameter controlling the threshold for\r\n",
      "                                        per-label cost uncertainty. Default \r\n",
      "                                        0.5.\r\n",
      "  --max_labels arg (=18446744073709551615)\r\n",
      "                                        maximum number of label queries.\r\n",
      "  --min_labels arg (=18446744073709551615)\r\n",
      "                                        minimum number of label queries.\r\n",
      "  --cost_max arg (=1)                   cost upper bound. Default 1.\r\n",
      "  --cost_min arg (=0)                   cost lower bound. Default 0.\r\n",
      "  --csa_debug                           print debug stuff for cs_active\r\n",
      "\r\n",
      "Multilabel One Against All:\r\n",
      "  --multilabel_oaa arg                  One-against-all multilabel with <k> \r\n",
      "                                        labels\r\n",
      "\r\n",
      "\r\n",
      "importance weight classes:\r\n",
      "  --classweight arg                     importance weight multiplier for class\r\n",
      "\r\n",
      "\r\n",
      "Recall Tree:\r\n",
      "  --recall_tree arg                     Use online tree for multiclass\r\n",
      "\r\n",
      "  --max_candidates arg                  maximum number of labels per leaf in \r\n",
      "                                        the tree\r\n",
      "  --bern_hyper arg (=1)                 recall tree depth penalty\r\n",
      "  --max_depth arg                       maximum depth of the tree, default \r\n"
     ]
    },
    {
     "name": "stdout",
     "output_type": "stream",
     "text": [
      "                                        log_2 (#classes)\r\n",
      "  --node_only arg (=0)                  only use node features, not full path \r\n",
      "                                        features\r\n",
      "  --randomized_routing arg (=0)         randomized routing\r\n",
      "\r\n",
      "Logarithmic Time Multiclass Tree:\r\n",
      "  --log_multi arg                       Use online tree for multiclass\r\n",
      "\r\n",
      "  --no_progress                         disable progressive validation\r\n",
      "  --swap_resistance arg (=4)            higher = more resistance to swap, \r\n",
      "                                        default=4\r\n",
      "\r\n",
      "Error Correcting Tournament Options:\r\n",
      "  --ect arg                             Error correcting tournament with <k> \r\n",
      "                                        labels\r\n",
      "\r\n",
      "  --error arg (=0)                      errors allowed by ECT\r\n",
      "\r\n",
      "Boosting:\r\n",
      "  --boosting arg                        Online boosting with <N> weak learners\r\n",
      "\r\n",
      "  --gamma arg (=0.100000001)            weak learner's edge (=0.1), used only \r\n",
      "                                        by online BBM\r\n",
      "  --alg arg (=BBM)                      specify the boosting algorithm: BBM \r\n",
      "                                        (default), logistic (AdaBoost.OL.W), \r\n",
      "                                        adaptive (AdaBoost.OL)\r\n",
      "\r\n",
      "One Against All Options:\r\n",
      "  --oaa arg                             One-against-all multiclass with <k> \r\n",
      "                                        labels\r\n",
      "\r\n",
      "  --oaa_subsample arg                   subsample this number of negative \r\n",
      "                                        examples when learning\r\n",
      "  --probabilities                       predict probabilites of all classes\r\n",
      "  --scores                              output raw scores per class\r\n",
      "\r\n",
      "Top K:\r\n",
      "  --top arg                             top k recommendation\r\n",
      "\r\n",
      "\r\n",
      "Experience Replay:\r\n",
      "  --replay_m arg                        use experience replay at a specified \r\n",
      "                                        level [b=classification/regression, \r\n",
      "                                        m=multiclass, c=cost sensitive] with \r\n",
      "                                        specified buffer size\r\n",
      "\r\n",
      "  --replay_m_count arg (=1)             how many times (in expectation) should \r\n",
      "                                        each example be played (default: 1 = \r\n",
      "                                        permuting)\r\n",
      "\r\n",
      "Binary loss:\r\n",
      "  --binary                              report loss as binary classification on\r\n",
      "                                        -1,1\r\n",
      "\r\n",
      "\r\n",
      "Bootstrap:\r\n",
      "  --bootstrap arg                       k-way bootstrap by online importance \r\n",
      "                                        resampling\r\n",
      "\r\n",
      "  --bs_type arg                         prediction type {mean,vote}\r\n",
      "\r\n",
      "scorer options:\r\n",
      "  --link arg (=identity)                Specify the link function: identity, \r\n",
      "                                        logistic, glf1 or poisson\r\n",
      "\r\n",
      "Stagewise polynomial options:\r\n",
      "  --stage_poly                          use stagewise polynomial feature \r\n",
      "                                        learning\r\n",
      "\r\n",
      "  --sched_exponent arg (=1)             exponent controlling quantity of \r\n",
      "                                        included features\r\n",
      "  --batch_sz arg (=1000)                multiplier on batch size before \r\n",
      "                                        including more features\r\n",
      "  --batch_sz_no_doubling                batch_sz does not double\r\n",
      "\r\n",
      "Low Rank Quadratics FA:\r\n",
      "  --lrqfa arg                           use low rank quadratic features with \r\n",
      "                                        field aware weights\r\n",
      "\r\n",
      "\r\n",
      "Low Rank Quadratics:\r\n",
      "  --lrq arg                             use low rank quadratic features\r\n",
      "\r\n",
      "  --lrqdropout                          use dropout training for low rank \r\n",
      "                                        quadratic features\r\n",
      "\r\n",
      "Autolink:\r\n",
      "  --autolink arg                        create link function with polynomial d\r\n",
      "\r\n",
      "\r\n",
      "Marginal:\r\n",
      "  --marginal arg                        substitute marginal label estimates for\r\n",
      "                                        ids\r\n",
      "\r\n",
      "  --initial_denominator arg (=1)        initial denominator\r\n",
      "  --initial_numerator arg (=0.5)        initial numerator\r\n",
      "  --compete                             enable competition with marginal \r\n",
      "                                        features\r\n",
      "  --update_before_learn arg (=0)        update marginal values before learning\r\n",
      "  --unweighted_marginals arg (=0)       ignore importance weights when \r\n",
      "                                        computing marginals\r\n",
      "  --decay arg (=0)                      decay multiplier per event (1e-3 for \r\n",
      "                                        example)\r\n",
      "\r\n",
      "Matrix Factorization Reduction:\r\n",
      "  --new_mf arg                          rank for reduction-based matrix \r\n",
      "                                        factorization\r\n",
      "\r\n",
      "\r\n",
      "Neural Network:\r\n",
      "  --nn arg                              Sigmoidal feedforward network with <k> \r\n",
      "                                        hidden units\r\n",
      "\r\n",
      "  --inpass                              Train or test sigmoidal feedforward \r\n",
      "                                        network with input passthrough.\r\n",
      "  --multitask                           Share hidden layer across all reduced \r\n",
      "                                        tasks.\r\n",
      "  --dropout                             Train or test sigmoidal feedforward \r\n",
      "                                        network using dropout.\r\n",
      "  --meanfield                           Train or test sigmoidal feedforward \r\n",
      "                                        network using mean field.\r\n",
      "\r\n",
      "Confidence:\r\n",
      "  --confidence                          Get confidence for binary predictions\r\n",
      "\r\n",
      "  --confidence_after_training           Confidence after training\r\n",
      "\r\n",
      "Active Learning with Cover:\r\n",
      "  --active_cover                        enable active learning with cover\r\n",
      "\r\n",
      "  --mellowness arg (=8)                 active learning mellowness parameter \r\n",
      "                                        c_0. Default 8.\r\n",
      "  --alpha arg (=1)                      active learning variance upper bound \r\n",
      "                                        parameter alpha. Default 1.\r\n",
      "  --beta_scale arg (=3.1622777)         active learning variance upper bound \r\n",
      "                                        parameter beta_scale. Default sqrt(10).\r\n",
      "  --cover arg (=12)                     cover size. Default 12.\r\n",
      "  --oracular                            Use Oracular-CAL style query or not. \r\n",
      "                                        Default false.\r\n",
      "\r\n",
      "Active Learning:\r\n",
      "  --active                              enable active learning\r\n",
      "\r\n",
      "  --simulation                          active learning simulation mode\r\n",
      "  --mellowness arg (=8)                 active learning mellowness parameter \r\n",
      "                                        c_0. Default 8\r\n",
      "\r\n",
      "Experience Replay:\r\n",
      "  --replay_b arg                        use experience replay at a specified \r\n",
      "                                        level [b=classification/regression, \r\n",
      "                                        m=multiclass, c=cost sensitive] with \r\n",
      "                                        specified buffer size\r\n",
      "\r\n",
      "  --replay_b_count arg (=1)             how many times (in expectation) should \r\n",
      "                                        each example be played (default: 1 = \r\n",
      "                                        permuting)\r\n",
      "\r\n",
      "Baseline options:\r\n",
      "  --baseline                            Learn an additive baseline (from \r\n",
      "                                        constant features) and a residual \r\n",
      "                                        separately in regression.\r\n",
      "\r\n",
      "  --lr_multiplier arg                   learning rate multiplier for baseline \r\n",
      "                                        model\r\n",
      "  --global_only                         use separate example with only global \r\n",
      "                                        constant for baseline predictions\r\n",
      "  --check_enabled                       only use baseline when the example \r\n",
      "                                        contains enabled flag\r\n",
      "\r\n",
      "OjaNewton options:\r\n",
      "  --OjaNewton                           Online Newton with Oja's Sketch\r\n",
      "\r\n",
      "  --sketch_size arg (=10)               size of sketch\r\n",
      "  --epoch_size arg (=1)                 size of epoch\r\n",
      "  --alpha arg (=1)                      mutiplicative constant for indentiy\r\n",
      "  --alpha_inverse arg                   one over alpha, similar to learning \r\n",
      "                                        rate\r\n",
      "  --learning_rate_cnt arg (=2)          constant for the learning rate 1/t\r\n",
      "  --normalize arg (=1)                  normalize the features or not\r\n",
      "  --random_init arg (=1)                randomize initialization of Oja or not\r\n",
      "\r\n",
      "LBFGS and Conjugate Gradient options:\r\n",
      "  --conjugate_gradient                  use conjugate gradient based \r\n",
      "                                        optimization\r\n",
      "\r\n",
      "\r\n",
      "  --bfgs                                use bfgs optimization\r\n",
      "\r\n",
      "  --hessian_on                          use second derivative in line search\r\n",
      "  --mem arg (=15)                       memory in bfgs\r\n",
      "  --termination arg (=0.00100000005)    Termination threshold\r\n",
      "\r\n",
      "Latent Dirichlet Allocation:\r\n",
      "  --lda arg                             Run lda with <int> topics\r\n",
      "\r\n",
      "  --lda_alpha arg (=0.100000001)        Prior on sparsity of per-document topic\r\n",
      "                                        weights\r\n",
      "  --lda_rho arg (=0.100000001)          Prior on sparsity of topic \r\n",
      "                                        distributions\r\n",
      "  --lda_D arg (=10000)                  Number of documents\r\n",
      "  --lda_epsilon arg (=0.00100000005)    Loop convergence threshold\r\n",
      "  --minibatch arg (=1)                  Minibatch size, for LDA\r\n",
      "  --math-mode arg (=0)                  Math mode: simd, accuracy, fast-approx\r\n",
      "  --metrics arg (=0)                    Compute metrics\r\n",
      "\r\n",
      "Noop Learner:\r\n",
      "  --noop                                do no learning\r\n",
      "\r\n",
      "\r\n",
      "Print psuedolearner:\r\n",
      "  --print                               print examples\r\n",
      "\r\n",
      "\r\n",
      "Gradient Descent Matrix Factorization:\r\n",
      "  --rank arg                            rank for matrix factorization.\r\n",
      "\r\n",
      "\r\n",
      "Network sending:\r\n",
      "  --sendto arg                          send examples to <host>\r\n",
      "\r\n",
      "\r\n",
      "Stochastic Variance Reduced Gradient:\r\n",
      "  --svrg                                Streaming Stochastic Variance Reduced \r\n",
      "                                        Gradient\r\n",
      "\r\n",
      "  --stage_size arg (=1)                 Number of passes per SVRG stage\r\n",
      "\r\n",
      "Follow the Regularized Leader:\r\n",
      "  --ftrl                                FTRL: Follow the Proximal Regularized \r\n",
      "                                        Leader\r\n",
      "\r\n",
      "  --ftrl_alpha arg (=0.00499999989)     Learning rate for FTRL optimization\r\n",
      "  --ftrl_beta arg (=0.100000001)        FTRL beta parameter\r\n",
      "\r\n",
      "  --pistol                              FTRL: Parameter-free Stochastic \r\n",
      "                                        Learning\r\n",
      "\r\n",
      "  --ftrl_alpha arg (=1)                 Learning rate for FTRL optimization\r\n",
      "  --ftrl_beta arg (=0.5)                FTRL beta parameter\r\n",
      "\r\n",
      "Kernel SVM:\r\n",
      "  --ksvm                                kernel svm\r\n",
      "\r\n",
      "  --reprocess arg (=1)                  number of reprocess steps for LASVM\r\n",
      "  --pool_greedy                         use greedy selection on mini pools\r\n",
      "  --para_active                         do parallel active learning\r\n",
      "  --pool_size arg (=1)                  size of pools for active learning\r\n",
      "  --subsample arg (=1)                  number of items to subsample from the \r\n",
      "                                        pool\r\n",
      "  --kernel arg (=linear)                type of kernel (rbf or linear \r\n",
      "                                        (default))\r\n",
      "  --bandwidth arg (=1)                  bandwidth of rbf kernel\r\n",
      "  --degree arg (=2)                     degree of poly kernel\r\n",
      "  --lambda arg                          saving regularization for test time\r\n",
      "\r\n",
      "Gradient Descent options:\r\n",
      "  --sgd                                 use regular stochastic gradient descent\r\n",
      "                                        update.\r\n",
      "  --adaptive                            use adaptive, individual learning \r\n",
      "                                        rates.\r\n",
      "  --adax                                use adaptive learning rates with x^2 \r\n",
      "                                        instead of g^2x^2\r\n",
      "  --invariant                           use safe/importance aware updates.\r\n",
      "  --normalized                          use per feature normalized updates\r\n",
      "  --sparse_l2 arg (=0)                  use per feature normalized updates\r\n",
      "  --l1_state arg (=0)                   use per feature normalized updates\r\n",
      "  --l2_state arg (=1)                   use per feature normalized updates\r\n",
      "\r\n",
      "Input options:\r\n",
      "  -d [ --data ] arg                     Example Set\r\n",
      "  --daemon                              persistent daemon mode on port 26542\r\n",
      "  --foreground                          in persistent daemon mode, do not run \r\n",
      "                                        in the background\r\n",
      "  --port arg                            port to listen on; use 0 to pick unused\r\n",
      "                                        port\r\n",
      "  --num_children arg                    number of children for persistent \r\n",
      "                                        daemon mode\r\n",
      "  --pid_file arg                        Write pid file in persistent daemon \r\n",
      "                                        mode\r\n",
      "  --port_file arg                       Write port used in persistent daemon \r\n",
      "                                        mode\r\n",
      "  -c [ --cache ]                        Use a cache.  The default is \r\n",
      "                                        <data>.cache\r\n",
      "  --cache_file arg                      The location(s) of cache_file.\r\n",
      "  --json                                Enable JSON parsing.\r\n",
      "  --dsjson                              Enable Decision Service JSON parsing.\r\n",
      "  -k [ --kill_cache ]                   do not reuse existing cache: create a \r\n",
      "                                        new one always\r\n",
      "  --compressed                          use gzip format whenever possible. If a\r\n",
      "                                        cache file is being created, this \r\n",
      "                                        option creates a compressed cache file.\r\n",
      "                                        A mixture of raw-text & compressed \r\n",
      "                                        inputs are supported with \r\n",
      "                                        autodetection.\r\n",
      "  --no_stdin                            do not default to reading from stdin\r\n"
     ]
    }
   ],
   "source": [
    "!vw --help"
   ]
  },
  {
   "cell_type": "code",
   "execution_count": 267,
   "metadata": {},
   "outputs": [],
   "source": [
    "import vowpalwabbit as vw"
   ]
  },
  {
   "cell_type": "markdown",
   "metadata": {},
   "source": [
    "Vowpal Wabbit любит, чтоб метки классов были распределены от 1 до K, где K – число классов в задаче классификации (в нашем случае – 550). Поэтому применим LabelEncoder, да еще и +1 добавим (LabelEncoder переводит метки в диапозон от 0 до K-1)."
   ]
  },
  {
   "cell_type": "code",
   "execution_count": 268,
   "metadata": {},
   "outputs": [],
   "source": [
    "class_encoder = LabelEncoder().fit(y.astype('str'))\n",
    "y_for_vw = class_encoder.transform(y.astype('str')) + 1"
   ]
  },
  {
   "cell_type": "code",
   "execution_count": 269,
   "metadata": {},
   "outputs": [],
   "source": [
    "X_train, X_valid, y_train, y_valid = train_test_split(X_train_sparse, y_for_vw, test_size=0.3, \n",
    "                                                     random_state=7, stratify=y_for_vw)"
   ]
  },
  {
   "cell_type": "markdown",
   "metadata": {},
   "source": [
    "Реализуем функцию, переводящую разреженную матрицу в формат Vowpal Wabbit."
   ]
  },
  {
   "cell_type": "code",
   "execution_count": 271,
   "metadata": {},
   "outputs": [],
   "source": [
    "def sparse_matrix_to_vw(X_sparse, y=None, out_file='tmp.vw'):\n",
    "    with open(out_file, 'w') as fid:\n",
    "        for ind in range(X_sparse.shape[0]):\n",
    "            # getting row and data from it\n",
    "            row = X_sparse.getrow(ind)\n",
    "            data = row.data\n",
    "            indices = row.indices\n",
    "            # extracting features\n",
    "            val_dict = {}\n",
    "            for index, value in zip(indices, data):\n",
    "                if index not in val_dict:\n",
    "                    val_dict[index] = value\n",
    "                else:\n",
    "                    val_dict[index] += value\n",
    "            if y is not None:\n",
    "                string = [str(y[ind]), \"|\"]\n",
    "            else:\n",
    "                string = [str(1), \"|\"]\n",
    "            for site, count in val_dict.iteritems():\n",
    "                string.append(str(site+1) + \":\" + str(count))\n",
    "            line = \" \".join(string)\n",
    "            fid.write(line+\"\\n\")\n",
    "        print (\"Passed: %d lines\" % (ind+1))"
   ]
  },
  {
   "cell_type": "markdown",
   "metadata": {},
   "source": [
    "Применим написанную функцию к части обучающей выборки (X_train, y_train), к отложенной выборке (X_valid, y_valid), ко всей обучающей выборке (X_train_sparse, y_for_vw) и ко всей тестовой выборке X_test_sparse."
   ]
  },
  {
   "cell_type": "code",
   "execution_count": 273,
   "metadata": {},
   "outputs": [
    {
     "name": "stdout",
     "output_type": "stream",
     "text": [
      "Passed: 177492 lines\n",
      "Passed: 76069 lines\n",
      "Passed: 253561 lines\n",
      "Passed: 82797 lines\n",
      "CPU times: user 6min 13s, sys: 5.59 s, total: 6min 18s\n",
      "Wall time: 6min 21s\n"
     ]
    }
   ],
   "source": [
    "%%time\n",
    "sparse_matrix_to_vw(X_train, y_train, '/Users/yaroina-kente/Identification/kaggle_data/train_part.vw')\n",
    "sparse_matrix_to_vw(X_valid, y_valid, '/Users/yaroina-kente/Identification/kaggle_data/valid.vw')\n",
    "sparse_matrix_to_vw(X_train_sparse, y_for_vw, '/Users/yaroina-kente/Identification/kaggle_data/train.vw')\n",
    "sparse_matrix_to_vw(X_test_sparse, out_file='/Users/yaroina-kente/Identification/kaggle_data/test.vw')"
   ]
  },
  {
   "cell_type": "markdown",
   "metadata": {},
   "source": [
    "Обучим модель на выборке kaggle_data/train_part.vw."
   ]
  },
  {
   "cell_type": "code",
   "execution_count": 274,
   "metadata": {},
   "outputs": [
    {
     "name": "stdout",
     "output_type": "stream",
     "text": [
      "CPU times: user 2.6 s, sys: 4.17 s, total: 6.77 s\n",
      "Wall time: 2min\n"
     ]
    }
   ],
   "source": [
    "%%time\n",
    "!vw --oaa 550 kaggle_data/train_part.vw --passes 10 --cache_file kaggle_data/cache -k -b 26 --loss_function hinge \\\n",
    "-f kaggle_data/model.vw --quiet"
   ]
  },
  {
   "cell_type": "code",
   "execution_count": 275,
   "metadata": {},
   "outputs": [
    {
     "name": "stdout",
     "output_type": "stream",
     "text": [
      "CPU times: user 119 ms, sys: 206 ms, total: 325 ms\n",
      "Wall time: 4.88 s\n"
     ]
    }
   ],
   "source": [
    "%%time\n",
    "!vw -i kaggle_data/model.vw -t -d kaggle_data/valid.vw --random_seed 7 -p kaggle_data/vw_valid_pred.csv --quiet"
   ]
  },
  {
   "cell_type": "code",
   "execution_count": 276,
   "metadata": {},
   "outputs": [
    {
     "data": {
      "text/plain": [
       "0.99267770050874859"
      ]
     },
     "execution_count": 276,
     "metadata": {},
     "output_type": "execute_result"
    }
   ],
   "source": [
    "vw_valid_pred = pd.read_csv(\"kaggle_data/vw_valid_pred.csv\", header=None)\n",
    "accuracy_score(y_valid, vw_valid_pred)"
   ]
  },
  {
   "cell_type": "markdown",
   "metadata": {},
   "source": [
    "Обучим модель с теми же параметрами на всей обучающей выборке – kaggle_data/train.vw. При этом используем новый кэш-файл (--cache_file)."
   ]
  },
  {
   "cell_type": "code",
   "execution_count": 277,
   "metadata": {},
   "outputs": [
    {
     "name": "stdout",
     "output_type": "stream",
     "text": [
      "CPU times: user 3.55 s, sys: 5.52 s, total: 9.08 s\n",
      "Wall time: 2min 42s\n"
     ]
    }
   ],
   "source": [
    "%%time\n",
    "!vw --oaa 550 kaggle_data/train.vw --passes 10 --cache_file kaggle_data/cache_all -k -b 26 \\\n",
    "--loss_function hinge -f kaggle_data/model.vw --quiet"
   ]
  },
  {
   "cell_type": "code",
   "execution_count": 278,
   "metadata": {},
   "outputs": [
    {
     "name": "stdout",
     "output_type": "stream",
     "text": [
      "only testing\n",
      "predictions = kaggle_data/vw_test_pred.csv\n",
      "Num weight bits = 26\n",
      "learning rate = 0.5\n",
      "initial_t = 0\n",
      "power_t = 0.5\n",
      "using no cache\n",
      "Reading datafile = kaggle_data/test.vw\n",
      "num sources = 1\n",
      "average  since         example        example  current  current  current\n",
      "loss     last          counter         weight    label  predict features\n",
      "0.000000 0.000000            1            1.0        1        1       51\n",
      "0.000000 0.000000            2            2.0        1        1       42\n",
      "0.000000 0.000000            4            4.0        1        1       48\n",
      "0.000000 0.000000            8            8.0        1        1       44\n",
      "0.000000 0.000000           16           16.0        1        1       46\n",
      "0.000000 0.000000           32           32.0        1        1       44\n",
      "0.000000 0.000000           64           64.0        1        1       44\n",
      "0.000000 0.000000          128          128.0        1        1       43\n",
      "0.000000 0.000000          256          256.0        1        1       48\n",
      "0.001953 0.003906          512          512.0        1        1       48\n",
      "0.001953 0.001953         1024         1024.0        1        1       44\n",
      "0.002930 0.003906         2048         2048.0        1        1       43\n",
      "0.002441 0.001953         4096         4096.0        1        1       49\n",
      "0.001953 0.001465         8192         8192.0        1        1       46\n",
      "0.002197 0.002441        16384        16384.0        1        1       43\n",
      "0.001862 0.001526        32768        32768.0        1        1       50\n",
      "0.001862 0.001862        65536        65536.0        1        1       46\n",
      "\n",
      "finished run\n",
      "number of examples = 82797\n",
      "weighted example sum = 82797.000000\n",
      "weighted label sum = 0.000000\n",
      "average loss = 0.001836\n",
      "total feature number = 3831899\n",
      "CPU times: user 153 ms, sys: 228 ms, total: 381 ms\n",
      "Wall time: 5.63 s\n"
     ]
    }
   ],
   "source": [
    "%%time\n",
    "!vw -i kaggle_data/model.vw -t -d kaggle_data/test.vw --random_seed 7 -p kaggle_data/vw_test_pred.csv"
   ]
  },
  {
   "cell_type": "markdown",
   "metadata": {},
   "source": [
    "Запишем прогноз в файл, применим обратное преобразование меток (был LabelEncoder и потом +1 в меткам) и отправим решение на Kaggle."
   ]
  },
  {
   "cell_type": "code",
   "execution_count": 290,
   "metadata": {},
   "outputs": [],
   "source": [
    "def write_to_submission_file(predicted_labels, out_file,\n",
    "                             target='target', index_label=\"session_id\"):\n",
    "    # turn predictions into data frame and save as csv file\n",
    "    predicted_df = pd.DataFrame(predicted_labels,\n",
    "                                index = np.arange(1, predicted_labels.shape[0] + 1),\n",
    "                                columns=[target])\n",
    "    predicted_df.to_csv(out_file, index_label=index_label)"
   ]
  },
  {
   "cell_type": "code",
   "execution_count": 291,
   "metadata": {},
   "outputs": [],
   "source": [
    "vw_pred = pd.read_csv(\"kaggle_data/vw_test_pred.csv\", header=None)"
   ]
  },
  {
   "cell_type": "code",
   "execution_count": 292,
   "metadata": {},
   "outputs": [],
   "source": [
    "vw_subm = class_encoder.inverse_transform(vw_pred - 1)"
   ]
  },
  {
   "cell_type": "code",
   "execution_count": 293,
   "metadata": {},
   "outputs": [],
   "source": [
    "write_to_submission_file(vw_subm,\n",
    "                         'kaggle_data/first_vw_submission.csv')"
   ]
  },
  {
   "cell_type": "markdown",
   "metadata": {},
   "source": [
    "## Итоги"
   ]
  },
  {
   "cell_type": "markdown",
   "metadata": {},
   "source": [
    "В данном проекте было предложено решить задачу идентификации одного конкретного пользователя из множества других посредством обработки информации о его сессиях в интернете.\n",
    "\n",
    "Первоначально были предоставлены данные о сессиях пользователей, среди которых был выделен один - \"Элис\", его и необходимо было научиться идентифицировать. Задача свелась к классической задаче бинарной классификации с сильным дисбалансом классов.\n",
    "Baseline-решения уже на начальных данных после tf-idf преобразования показали неплохие результаты на AUC-ROC. После генерации дополнительных признаков, их отбора и подбора параметров поиском по сетке результат на public leaderboarde вошёл в топ-10%.\n",
    "\n",
    "Знакомство с библиотекой Vowpal Wabbit можно отнести к специфическим. У неё огромный потенциал и жутко неудобный (примечание: субъективное мнение автора) интерфейс. С другой стороны, хорошо знать об инструментах, которые могут потом пригодиться.\n",
    "\n",
    "Полученная модель может быть использована для распознавания конкретного пользователя по его сессиям в интернете."
   ]
  },
  {
   "cell_type": "markdown",
   "metadata": {},
   "source": [
    "<img src=\"image.png\">"
   ]
  },
  {
   "cell_type": "code",
   "execution_count": null,
   "metadata": {},
   "outputs": [],
   "source": []
  }
 ],
 "metadata": {
  "kernelspec": {
   "display_name": "Python 2",
   "language": "python",
   "name": "python2"
  },
  "language_info": {
   "codemirror_mode": {
    "name": "ipython",
    "version": 2
   },
   "file_extension": ".py",
   "mimetype": "text/x-python",
   "name": "python",
   "nbconvert_exporter": "python",
   "pygments_lexer": "ipython2",
   "version": "2.7.15"
  }
 },
 "nbformat": 4,
 "nbformat_minor": 2
}
